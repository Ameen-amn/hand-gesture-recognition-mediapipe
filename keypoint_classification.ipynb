{
 "cells": [
  {
   "cell_type": "code",
   "execution_count": 28,
   "metadata": {},
   "outputs": [],
   "source": [
    "import csv\n",
    "import numpy as np\n",
    "import tensorflow as tf\n",
    "from sklearn.model_selection import train_test_split\n",
    "\n",
    "RANDOM_SEED = 42"
   ]
  },
  {
   "cell_type": "markdown",
   "metadata": {},
   "source": [
    "# 各パス指定"
   ]
  },
  {
   "cell_type": "code",
   "execution_count": 2,
   "metadata": {},
   "outputs": [],
   "source": [
    "dataset = 'model/keypoint_classifier/keypoint.csv'\n",
    "model_save_path = 'model/keypoint_classifier/keypoint_classifier.hdf5'"
   ]
  },
  {
   "cell_type": "markdown",
   "metadata": {},
   "source": [
    "# 分類数設定"
   ]
  },
  {
   "cell_type": "code",
   "execution_count": 3,
   "metadata": {},
   "outputs": [],
   "source": [
    "NUM_CLASSES = 3"
   ]
  },
  {
   "cell_type": "markdown",
   "metadata": {},
   "source": [
    "# 学習データ読み込み"
   ]
  },
  {
   "cell_type": "code",
   "execution_count": 4,
   "metadata": {},
   "outputs": [],
   "source": [
    "X_dataset = np.loadtxt(dataset, delimiter=',', dtype='float32', usecols=list(range(1, (21 * 2) + 1)))"
   ]
  },
  {
   "cell_type": "code",
   "execution_count": 5,
   "metadata": {},
   "outputs": [],
   "source": [
    "y_dataset = np.loadtxt(dataset, delimiter=',', dtype='int32', usecols=(0))"
   ]
  },
  {
   "cell_type": "code",
   "execution_count": 6,
   "metadata": {},
   "outputs": [],
   "source": [
    "X_train, X_test, y_train, y_test = train_test_split(X_dataset, y_dataset, train_size=0.75, random_state=RANDOM_SEED)"
   ]
  },
  {
   "cell_type": "markdown",
   "metadata": {},
   "source": [
    "# モデル構築"
   ]
  },
  {
   "cell_type": "code",
   "execution_count": 7,
   "metadata": {},
   "outputs": [],
   "source": [
    "model = tf.keras.models.Sequential([\n",
    "    tf.keras.layers.Input((21 * 2, )),\n",
    "    tf.keras.layers.Dropout(0.2),\n",
    "    tf.keras.layers.Dense(20, activation='relu'),\n",
    "    tf.keras.layers.Dropout(0.4),\n",
    "    tf.keras.layers.Dense(10, activation='relu'),\n",
    "    tf.keras.layers.Dense(NUM_CLASSES, activation='softmax')\n",
    "])"
   ]
  },
  {
   "cell_type": "code",
   "execution_count": 8,
   "metadata": {},
   "outputs": [
    {
     "name": "stdout",
     "output_type": "stream",
     "text": [
      "Model: \"sequential\"\n",
      "_________________________________________________________________\n",
      " Layer (type)                Output Shape              Param #   \n",
      "=================================================================\n",
      " dropout (Dropout)           (None, 42)                0         \n",
      "                                                                 \n",
      " dense (Dense)               (None, 20)                860       \n",
      "                                                                 \n",
      " dropout_1 (Dropout)         (None, 20)                0         \n",
      "                                                                 \n",
      " dense_1 (Dense)             (None, 10)                210       \n",
      "                                                                 \n",
      " dense_2 (Dense)             (None, 3)                 33        \n",
      "                                                                 \n",
      "=================================================================\n",
      "Total params: 1,103\n",
      "Trainable params: 1,103\n",
      "Non-trainable params: 0\n",
      "_________________________________________________________________\n"
     ]
    }
   ],
   "source": [
    "model.summary()  # tf.keras.utils.plot_model(model, show_shapes=True)"
   ]
  },
  {
   "cell_type": "code",
   "execution_count": 9,
   "metadata": {},
   "outputs": [],
   "source": [
    "# モデルチェックポイントのコールバック\n",
    "cp_callback = tf.keras.callbacks.ModelCheckpoint(\n",
    "    model_save_path, verbose=1, save_weights_only=False)\n",
    "# 早期打ち切り用コールバック\n",
    "es_callback = tf.keras.callbacks.EarlyStopping(patience=20, verbose=1)"
   ]
  },
  {
   "cell_type": "code",
   "execution_count": 10,
   "metadata": {},
   "outputs": [],
   "source": [
    "# モデルコンパイル\n",
    "model.compile(\n",
    "    optimizer='adam',\n",
    "    loss='sparse_categorical_crossentropy',\n",
    "   # loss='categorical_crossentropy',\n",
    "    metrics=['accuracy']\n",
    ")"
   ]
  },
  {
   "cell_type": "code",
   "execution_count": 11,
   "metadata": {},
   "outputs": [
    {
     "data": {
      "text/plain": [
       "'\\nfrom keras.utils import to_categorical\\n\\ny_train = to_categorical(y_train)\\ny_test = to_categorical(y_test)\\n\"X_train=to_categorical(X_train)\"\\n'"
      ]
     },
     "execution_count": 11,
     "metadata": {},
     "output_type": "execute_result"
    }
   ],
   "source": [
    "'''\n",
    "from keras.utils import to_categorical\n",
    "\n",
    "y_train = to_categorical(y_train)\n",
    "y_test = to_categorical(y_test)\n",
    "\"X_train=to_categorical(X_train)\"\n",
    "'''"
   ]
  },
  {
   "cell_type": "code",
   "execution_count": 12,
   "metadata": {},
   "outputs": [
    {
     "data": {
      "text/plain": [
       "'X_train = X_train.reshape((X_train.shape[0], -1))\\nX_test = X_test.reshape((X_test.shape[0], -1))'"
      ]
     },
     "execution_count": 12,
     "metadata": {},
     "output_type": "execute_result"
    }
   ],
   "source": [
    "'''X_train = X_train.reshape((X_train.shape[0], -1))\n",
    "X_test = X_test.reshape((X_test.shape[0], -1))'''"
   ]
  },
  {
   "cell_type": "markdown",
   "metadata": {},
   "source": [
    "# モデル訓練"
   ]
  },
  {
   "cell_type": "code",
   "execution_count": 13,
   "metadata": {
    "scrolled": true
   },
   "outputs": [
    {
     "name": "stdout",
     "output_type": "stream",
     "text": [
      "Epoch 1/1000\n",
      " 1/27 [>.............................] - ETA: 15s - loss: 1.1419 - accuracy: 0.3672\n",
      "Epoch 1: saving model to model/keypoint_classifier\\keypoint_classifier.hdf5\n",
      "27/27 [==============================] - 1s 14ms/step - loss: 1.0657 - accuracy: 0.4303 - val_loss: 0.9776 - val_accuracy: 0.8084\n",
      "Epoch 2/1000\n",
      "27/27 [==============================] - ETA: 0s - loss: 0.9423 - accuracy: 0.6216\n",
      "Epoch 2: saving model to model/keypoint_classifier\\keypoint_classifier.hdf5\n",
      "27/27 [==============================] - 0s 5ms/step - loss: 0.9423 - accuracy: 0.6216 - val_loss: 0.8232 - val_accuracy: 0.8478\n",
      "Epoch 3/1000\n",
      " 1/27 [>.............................] - ETA: 0s - loss: 0.8484 - accuracy: 0.6484\n",
      "Epoch 3: saving model to model/keypoint_classifier\\keypoint_classifier.hdf5\n",
      "27/27 [==============================] - 0s 5ms/step - loss: 0.8388 - accuracy: 0.6984 - val_loss: 0.6982 - val_accuracy: 0.8469\n",
      "Epoch 4/1000\n",
      " 1/27 [>.............................] - ETA: 0s - loss: 0.8125 - accuracy: 0.7266\n",
      "Epoch 4: saving model to model/keypoint_classifier\\keypoint_classifier.hdf5\n",
      "27/27 [==============================] - 0s 4ms/step - loss: 0.7575 - accuracy: 0.7497 - val_loss: 0.5852 - val_accuracy: 0.8451\n",
      "Epoch 5/1000\n",
      " 1/27 [>.............................] - ETA: 0s - loss: 0.6775 - accuracy: 0.7969\n",
      "Epoch 5: saving model to model/keypoint_classifier\\keypoint_classifier.hdf5\n",
      "27/27 [==============================] - 0s 4ms/step - loss: 0.6805 - accuracy: 0.7675 - val_loss: 0.5033 - val_accuracy: 0.8548\n",
      "Epoch 6/1000\n",
      " 1/27 [>.............................] - ETA: 0s - loss: 0.5947 - accuracy: 0.7969\n",
      "Epoch 6: saving model to model/keypoint_classifier\\keypoint_classifier.hdf5\n",
      "27/27 [==============================] - 0s 4ms/step - loss: 0.6115 - accuracy: 0.7973 - val_loss: 0.4207 - val_accuracy: 0.8941\n",
      "Epoch 7/1000\n",
      " 1/27 [>.............................] - ETA: 0s - loss: 0.5932 - accuracy: 0.7969\n",
      "Epoch 7: saving model to model/keypoint_classifier\\keypoint_classifier.hdf5\n",
      "27/27 [==============================] - 0s 4ms/step - loss: 0.5442 - accuracy: 0.8136 - val_loss: 0.3586 - val_accuracy: 0.8950\n",
      "Epoch 8/1000\n",
      "26/27 [===========================>..] - ETA: 0s - loss: 0.5009 - accuracy: 0.8302\n",
      "Epoch 8: saving model to model/keypoint_classifier\\keypoint_classifier.hdf5\n",
      "27/27 [==============================] - 0s 5ms/step - loss: 0.4980 - accuracy: 0.8302 - val_loss: 0.3140 - val_accuracy: 0.9125\n",
      "Epoch 9/1000\n",
      "27/27 [==============================] - ETA: 0s - loss: 0.4627 - accuracy: 0.8317\n",
      "Epoch 9: saving model to model/keypoint_classifier\\keypoint_classifier.hdf5\n",
      "27/27 [==============================] - 0s 5ms/step - loss: 0.4627 - accuracy: 0.8317 - val_loss: 0.2797 - val_accuracy: 0.9178\n",
      "Epoch 10/1000\n",
      "24/27 [=========================>....] - ETA: 0s - loss: 0.4223 - accuracy: 0.8643\n",
      "Epoch 10: saving model to model/keypoint_classifier\\keypoint_classifier.hdf5\n",
      "27/27 [==============================] - 0s 5ms/step - loss: 0.4169 - accuracy: 0.8664 - val_loss: 0.2474 - val_accuracy: 0.9256\n",
      "Epoch 11/1000\n",
      " 1/27 [>.............................] - ETA: 0s - loss: 0.4849 - accuracy: 0.8438\n",
      "Epoch 11: saving model to model/keypoint_classifier\\keypoint_classifier.hdf5\n",
      "27/27 [==============================] - 0s 4ms/step - loss: 0.4052 - accuracy: 0.8585 - val_loss: 0.2265 - val_accuracy: 0.9309\n",
      "Epoch 12/1000\n",
      " 1/27 [>.............................] - ETA: 0s - loss: 0.3530 - accuracy: 0.8750\n",
      "Epoch 12: saving model to model/keypoint_classifier\\keypoint_classifier.hdf5\n",
      "27/27 [==============================] - 0s 4ms/step - loss: 0.3868 - accuracy: 0.8638 - val_loss: 0.2039 - val_accuracy: 0.9423\n",
      "Epoch 13/1000\n",
      " 1/27 [>.............................] - ETA: 0s - loss: 0.3219 - accuracy: 0.8828\n",
      "Epoch 13: saving model to model/keypoint_classifier\\keypoint_classifier.hdf5\n",
      "27/27 [==============================] - 0s 4ms/step - loss: 0.3537 - accuracy: 0.8746 - val_loss: 0.1873 - val_accuracy: 0.9440\n",
      "Epoch 14/1000\n",
      " 1/27 [>.............................] - ETA: 0s - loss: 0.3478 - accuracy: 0.8750\n",
      "Epoch 14: saving model to model/keypoint_classifier\\keypoint_classifier.hdf5\n",
      "27/27 [==============================] - 0s 4ms/step - loss: 0.3516 - accuracy: 0.8769 - val_loss: 0.1798 - val_accuracy: 0.9431\n",
      "Epoch 15/1000\n",
      " 1/27 [>.............................] - ETA: 0s - loss: 0.3126 - accuracy: 0.9062\n",
      "Epoch 15: saving model to model/keypoint_classifier\\keypoint_classifier.hdf5\n",
      "27/27 [==============================] - 0s 4ms/step - loss: 0.3469 - accuracy: 0.8754 - val_loss: 0.1701 - val_accuracy: 0.9493\n",
      "Epoch 16/1000\n",
      " 1/27 [>.............................] - ETA: 0s - loss: 0.3748 - accuracy: 0.8906\n",
      "Epoch 16: saving model to model/keypoint_classifier\\keypoint_classifier.hdf5\n",
      "27/27 [==============================] - 0s 4ms/step - loss: 0.3370 - accuracy: 0.8854 - val_loss: 0.1600 - val_accuracy: 0.9589\n",
      "Epoch 17/1000\n",
      " 1/27 [>.............................] - ETA: 0s - loss: 0.2926 - accuracy: 0.8828\n",
      "Epoch 17: saving model to model/keypoint_classifier\\keypoint_classifier.hdf5\n",
      "27/27 [==============================] - 0s 4ms/step - loss: 0.3230 - accuracy: 0.8906 - val_loss: 0.1541 - val_accuracy: 0.9536\n",
      "Epoch 18/1000\n",
      "27/27 [==============================] - ETA: 0s - loss: 0.2924 - accuracy: 0.8947\n",
      "Epoch 18: saving model to model/keypoint_classifier\\keypoint_classifier.hdf5\n",
      "27/27 [==============================] - 0s 4ms/step - loss: 0.2924 - accuracy: 0.8947 - val_loss: 0.1451 - val_accuracy: 0.9589\n",
      "Epoch 19/1000\n",
      "26/27 [===========================>..] - ETA: 0s - loss: 0.2956 - accuracy: 0.8918\n",
      "Epoch 19: saving model to model/keypoint_classifier\\keypoint_classifier.hdf5\n",
      "27/27 [==============================] - 0s 5ms/step - loss: 0.2932 - accuracy: 0.8932 - val_loss: 0.1380 - val_accuracy: 0.9598\n",
      "Epoch 20/1000\n",
      " 1/27 [>.............................] - ETA: 0s - loss: 0.2372 - accuracy: 0.9375\n",
      "Epoch 20: saving model to model/keypoint_classifier\\keypoint_classifier.hdf5\n",
      "27/27 [==============================] - 0s 4ms/step - loss: 0.2956 - accuracy: 0.8994 - val_loss: 0.1345 - val_accuracy: 0.9615\n",
      "Epoch 21/1000\n",
      " 1/27 [>.............................] - ETA: 0s - loss: 0.4241 - accuracy: 0.8359\n",
      "Epoch 21: saving model to model/keypoint_classifier\\keypoint_classifier.hdf5\n",
      "27/27 [==============================] - 0s 4ms/step - loss: 0.2799 - accuracy: 0.9020 - val_loss: 0.1316 - val_accuracy: 0.9606\n",
      "Epoch 22/1000\n",
      "23/27 [========================>.....] - ETA: 0s - loss: 0.2737 - accuracy: 0.9008\n",
      "Epoch 22: saving model to model/keypoint_classifier\\keypoint_classifier.hdf5\n",
      "27/27 [==============================] - 0s 5ms/step - loss: 0.2729 - accuracy: 0.9020 - val_loss: 0.1280 - val_accuracy: 0.9641\n",
      "Epoch 23/1000\n",
      " 1/27 [>.............................] - ETA: 0s - loss: 0.3270 - accuracy: 0.8516\n",
      "Epoch 23: saving model to model/keypoint_classifier\\keypoint_classifier.hdf5\n",
      "27/27 [==============================] - 0s 5ms/step - loss: 0.2665 - accuracy: 0.9037 - val_loss: 0.1216 - val_accuracy: 0.9633\n",
      "Epoch 24/1000\n",
      "26/27 [===========================>..] - ETA: 0s - loss: 0.2589 - accuracy: 0.9053\n",
      "Epoch 24: saving model to model/keypoint_classifier\\keypoint_classifier.hdf5\n",
      "27/27 [==============================] - 0s 5ms/step - loss: 0.2591 - accuracy: 0.9055 - val_loss: 0.1203 - val_accuracy: 0.9633\n",
      "Epoch 25/1000\n",
      "25/27 [==========================>...] - ETA: 0s - loss: 0.2635 - accuracy: 0.9112\n",
      "Epoch 25: saving model to model/keypoint_classifier\\keypoint_classifier.hdf5\n",
      "27/27 [==============================] - 0s 5ms/step - loss: 0.2660 - accuracy: 0.9096 - val_loss: 0.1143 - val_accuracy: 0.9676\n",
      "Epoch 26/1000\n",
      "27/27 [==============================] - ETA: 0s - loss: 0.2585 - accuracy: 0.9102\n",
      "Epoch 26: saving model to model/keypoint_classifier\\keypoint_classifier.hdf5\n",
      "27/27 [==============================] - 0s 4ms/step - loss: 0.2585 - accuracy: 0.9102 - val_loss: 0.1115 - val_accuracy: 0.9659\n",
      "Epoch 27/1000\n",
      " 1/27 [>.............................] - ETA: 0s - loss: 0.2532 - accuracy: 0.9062\n",
      "Epoch 27: saving model to model/keypoint_classifier\\keypoint_classifier.hdf5\n",
      "27/27 [==============================] - 0s 7ms/step - loss: 0.2605 - accuracy: 0.9075 - val_loss: 0.1107 - val_accuracy: 0.9650\n",
      "Epoch 28/1000\n"
     ]
    },
    {
     "name": "stdout",
     "output_type": "stream",
     "text": [
      "19/27 [====================>.........] - ETA: 0s - loss: 0.2332 - accuracy: 0.9231\n",
      "Epoch 28: saving model to model/keypoint_classifier\\keypoint_classifier.hdf5\n",
      "27/27 [==============================] - 0s 7ms/step - loss: 0.2391 - accuracy: 0.9192 - val_loss: 0.1064 - val_accuracy: 0.9659\n",
      "Epoch 29/1000\n",
      "20/27 [=====================>........] - ETA: 0s - loss: 0.2412 - accuracy: 0.9133\n",
      "Epoch 29: saving model to model/keypoint_classifier\\keypoint_classifier.hdf5\n",
      "27/27 [==============================] - 0s 7ms/step - loss: 0.2398 - accuracy: 0.9160 - val_loss: 0.1026 - val_accuracy: 0.9659\n",
      "Epoch 30/1000\n",
      "19/27 [====================>.........] - ETA: 0s - loss: 0.2336 - accuracy: 0.9137\n",
      "Epoch 30: saving model to model/keypoint_classifier\\keypoint_classifier.hdf5\n",
      "27/27 [==============================] - 0s 6ms/step - loss: 0.2313 - accuracy: 0.9148 - val_loss: 0.1007 - val_accuracy: 0.9668\n",
      "Epoch 31/1000\n",
      "27/27 [==============================] - ETA: 0s - loss: 0.2368 - accuracy: 0.9137\n",
      "Epoch 31: saving model to model/keypoint_classifier\\keypoint_classifier.hdf5\n",
      "27/27 [==============================] - 0s 5ms/step - loss: 0.2368 - accuracy: 0.9137 - val_loss: 0.0962 - val_accuracy: 0.9694\n",
      "Epoch 32/1000\n",
      " 1/27 [>.............................] - ETA: 0s - loss: 0.2266 - accuracy: 0.9219\n",
      "Epoch 32: saving model to model/keypoint_classifier\\keypoint_classifier.hdf5\n",
      "27/27 [==============================] - 0s 6ms/step - loss: 0.2347 - accuracy: 0.9160 - val_loss: 0.0981 - val_accuracy: 0.9685\n",
      "Epoch 33/1000\n",
      "24/27 [=========================>....] - ETA: 0s - loss: 0.2337 - accuracy: 0.9157\n",
      "Epoch 33: saving model to model/keypoint_classifier\\keypoint_classifier.hdf5\n",
      "27/27 [==============================] - 0s 8ms/step - loss: 0.2334 - accuracy: 0.9148 - val_loss: 0.0946 - val_accuracy: 0.9755\n",
      "Epoch 34/1000\n",
      "25/27 [==========================>...] - ETA: 0s - loss: 0.2323 - accuracy: 0.9191\n",
      "Epoch 34: saving model to model/keypoint_classifier\\keypoint_classifier.hdf5\n",
      "27/27 [==============================] - 0s 5ms/step - loss: 0.2328 - accuracy: 0.9186 - val_loss: 0.0928 - val_accuracy: 0.9720\n",
      "Epoch 35/1000\n",
      " 1/27 [>.............................] - ETA: 0s - loss: 0.2337 - accuracy: 0.8984\n",
      "Epoch 35: saving model to model/keypoint_classifier\\keypoint_classifier.hdf5\n",
      "27/27 [==============================] - 0s 4ms/step - loss: 0.2213 - accuracy: 0.9189 - val_loss: 0.0920 - val_accuracy: 0.9685\n",
      "Epoch 36/1000\n",
      " 1/27 [>.............................] - ETA: 0s - loss: 0.1901 - accuracy: 0.9219\n",
      "Epoch 36: saving model to model/keypoint_classifier\\keypoint_classifier.hdf5\n",
      "27/27 [==============================] - 0s 5ms/step - loss: 0.2167 - accuracy: 0.9201 - val_loss: 0.0898 - val_accuracy: 0.9764\n",
      "Epoch 37/1000\n",
      "25/27 [==========================>...] - ETA: 0s - loss: 0.2223 - accuracy: 0.9191\n",
      "Epoch 37: saving model to model/keypoint_classifier\\keypoint_classifier.hdf5\n",
      "27/27 [==============================] - 0s 5ms/step - loss: 0.2230 - accuracy: 0.9204 - val_loss: 0.0851 - val_accuracy: 0.9773\n",
      "Epoch 38/1000\n",
      "26/27 [===========================>..] - ETA: 0s - loss: 0.2257 - accuracy: 0.9120\n",
      "Epoch 38: saving model to model/keypoint_classifier\\keypoint_classifier.hdf5\n",
      "27/27 [==============================] - 0s 5ms/step - loss: 0.2272 - accuracy: 0.9113 - val_loss: 0.0870 - val_accuracy: 0.9825\n",
      "Epoch 39/1000\n",
      " 1/27 [>.............................] - ETA: 0s - loss: 0.2283 - accuracy: 0.8984\n",
      "Epoch 39: saving model to model/keypoint_classifier\\keypoint_classifier.hdf5\n",
      "27/27 [==============================] - 0s 5ms/step - loss: 0.2100 - accuracy: 0.9201 - val_loss: 0.0851 - val_accuracy: 0.9781\n",
      "Epoch 40/1000\n",
      "27/27 [==============================] - ETA: 0s - loss: 0.2196 - accuracy: 0.9224\n",
      "Epoch 40: saving model to model/keypoint_classifier\\keypoint_classifier.hdf5\n",
      "27/27 [==============================] - 0s 5ms/step - loss: 0.2196 - accuracy: 0.9224 - val_loss: 0.0847 - val_accuracy: 0.9825\n",
      "Epoch 41/1000\n",
      " 1/27 [>.............................] - ETA: 0s - loss: 0.2522 - accuracy: 0.9141\n",
      "Epoch 41: saving model to model/keypoint_classifier\\keypoint_classifier.hdf5\n",
      "27/27 [==============================] - 0s 5ms/step - loss: 0.2309 - accuracy: 0.9177 - val_loss: 0.0823 - val_accuracy: 0.9825\n",
      "Epoch 42/1000\n",
      " 1/27 [>.............................] - ETA: 0s - loss: 0.2228 - accuracy: 0.9375\n",
      "Epoch 42: saving model to model/keypoint_classifier\\keypoint_classifier.hdf5\n",
      "27/27 [==============================] - 0s 4ms/step - loss: 0.2153 - accuracy: 0.9233 - val_loss: 0.0816 - val_accuracy: 0.9816\n",
      "Epoch 43/1000\n",
      " 1/27 [>.............................] - ETA: 0s - loss: 0.1925 - accuracy: 0.9219\n",
      "Epoch 43: saving model to model/keypoint_classifier\\keypoint_classifier.hdf5\n",
      "27/27 [==============================] - 0s 4ms/step - loss: 0.2153 - accuracy: 0.9209 - val_loss: 0.0791 - val_accuracy: 0.9825\n",
      "Epoch 44/1000\n",
      "25/27 [==========================>...] - ETA: 0s - loss: 0.2312 - accuracy: 0.9219\n",
      "Epoch 44: saving model to model/keypoint_classifier\\keypoint_classifier.hdf5\n",
      "27/27 [==============================] - 0s 5ms/step - loss: 0.2319 - accuracy: 0.9218 - val_loss: 0.0806 - val_accuracy: 0.9808\n",
      "Epoch 45/1000\n",
      " 1/27 [>.............................] - ETA: 0s - loss: 0.2369 - accuracy: 0.8828\n",
      "Epoch 45: saving model to model/keypoint_classifier\\keypoint_classifier.hdf5\n",
      "27/27 [==============================] - 0s 5ms/step - loss: 0.2161 - accuracy: 0.9233 - val_loss: 0.0797 - val_accuracy: 0.9825\n",
      "Epoch 46/1000\n",
      "26/27 [===========================>..] - ETA: 0s - loss: 0.2029 - accuracy: 0.9258\n",
      "Epoch 46: saving model to model/keypoint_classifier\\keypoint_classifier.hdf5\n",
      "27/27 [==============================] - 0s 8ms/step - loss: 0.2043 - accuracy: 0.9256 - val_loss: 0.0732 - val_accuracy: 0.9834\n",
      "Epoch 47/1000\n",
      "19/27 [====================>.........] - ETA: 0s - loss: 0.2161 - accuracy: 0.9182\n",
      "Epoch 47: saving model to model/keypoint_classifier\\keypoint_classifier.hdf5\n",
      "27/27 [==============================] - 0s 13ms/step - loss: 0.2023 - accuracy: 0.9253 - val_loss: 0.0748 - val_accuracy: 0.9825\n",
      "Epoch 48/1000\n",
      "20/27 [=====================>........] - ETA: 0s - loss: 0.1923 - accuracy: 0.9316\n",
      "Epoch 48: saving model to model/keypoint_classifier\\keypoint_classifier.hdf5\n",
      "27/27 [==============================] - 0s 12ms/step - loss: 0.1994 - accuracy: 0.9285 - val_loss: 0.0740 - val_accuracy: 0.9825\n",
      "Epoch 49/1000\n",
      "23/27 [========================>.....] - ETA: 0s - loss: 0.2062 - accuracy: 0.9273\n",
      "Epoch 49: saving model to model/keypoint_classifier\\keypoint_classifier.hdf5\n",
      "27/27 [==============================] - 0s 5ms/step - loss: 0.2064 - accuracy: 0.9282 - val_loss: 0.0725 - val_accuracy: 0.9825\n",
      "Epoch 50/1000\n",
      "26/27 [===========================>..] - ETA: 0s - loss: 0.1963 - accuracy: 0.9297\n",
      "Epoch 50: saving model to model/keypoint_classifier\\keypoint_classifier.hdf5\n",
      "27/27 [==============================] - 0s 5ms/step - loss: 0.1959 - accuracy: 0.9300 - val_loss: 0.0685 - val_accuracy: 0.9834\n",
      "Epoch 51/1000\n",
      "25/27 [==========================>...] - ETA: 0s - loss: 0.1942 - accuracy: 0.9319\n",
      "Epoch 51: saving model to model/keypoint_classifier\\keypoint_classifier.hdf5\n",
      "27/27 [==============================] - 0s 5ms/step - loss: 0.1966 - accuracy: 0.9297 - val_loss: 0.0704 - val_accuracy: 0.9825\n",
      "Epoch 52/1000\n",
      "26/27 [===========================>..] - ETA: 0s - loss: 0.1955 - accuracy: 0.9321\n",
      "Epoch 52: saving model to model/keypoint_classifier\\keypoint_classifier.hdf5\n",
      "27/27 [==============================] - 0s 5ms/step - loss: 0.1935 - accuracy: 0.9332 - val_loss: 0.0660 - val_accuracy: 0.9843\n",
      "Epoch 53/1000\n",
      "27/27 [==============================] - ETA: 0s - loss: 0.1934 - accuracy: 0.9297\n",
      "Epoch 53: saving model to model/keypoint_classifier\\keypoint_classifier.hdf5\n",
      "27/27 [==============================] - 0s 5ms/step - loss: 0.1934 - accuracy: 0.9297 - val_loss: 0.0665 - val_accuracy: 0.9843\n",
      "Epoch 54/1000\n",
      " 1/27 [>.............................] - ETA: 0s - loss: 0.1948 - accuracy: 0.9375\n",
      "Epoch 54: saving model to model/keypoint_classifier\\keypoint_classifier.hdf5\n",
      "27/27 [==============================] - 0s 5ms/step - loss: 0.1931 - accuracy: 0.9312 - val_loss: 0.0653 - val_accuracy: 0.9843\n",
      "Epoch 55/1000\n"
     ]
    },
    {
     "name": "stdout",
     "output_type": "stream",
     "text": [
      "24/27 [=========================>....] - ETA: 0s - loss: 0.2024 - accuracy: 0.9248\n",
      "Epoch 55: saving model to model/keypoint_classifier\\keypoint_classifier.hdf5\n",
      "27/27 [==============================] - 0s 5ms/step - loss: 0.2002 - accuracy: 0.9250 - val_loss: 0.0698 - val_accuracy: 0.9816\n",
      "Epoch 56/1000\n",
      "27/27 [==============================] - ETA: 0s - loss: 0.1917 - accuracy: 0.9297\n",
      "Epoch 56: saving model to model/keypoint_classifier\\keypoint_classifier.hdf5\n",
      "27/27 [==============================] - 0s 5ms/step - loss: 0.1917 - accuracy: 0.9297 - val_loss: 0.0648 - val_accuracy: 0.9834\n",
      "Epoch 57/1000\n",
      "23/27 [========================>.....] - ETA: 0s - loss: 0.1883 - accuracy: 0.9361\n",
      "Epoch 57: saving model to model/keypoint_classifier\\keypoint_classifier.hdf5\n",
      "27/27 [==============================] - 0s 5ms/step - loss: 0.1850 - accuracy: 0.9364 - val_loss: 0.0657 - val_accuracy: 0.9825\n",
      "Epoch 58/1000\n",
      " 1/27 [>.............................] - ETA: 0s - loss: 0.1082 - accuracy: 0.9609\n",
      "Epoch 58: saving model to model/keypoint_classifier\\keypoint_classifier.hdf5\n",
      "27/27 [==============================] - 0s 7ms/step - loss: 0.1793 - accuracy: 0.9338 - val_loss: 0.0600 - val_accuracy: 0.9851\n",
      "Epoch 59/1000\n",
      "19/27 [====================>.........] - ETA: 0s - loss: 0.1844 - accuracy: 0.9326\n",
      "Epoch 59: saving model to model/keypoint_classifier\\keypoint_classifier.hdf5\n",
      "27/27 [==============================] - 0s 12ms/step - loss: 0.1843 - accuracy: 0.9317 - val_loss: 0.0608 - val_accuracy: 0.9851\n",
      "Epoch 60/1000\n",
      "12/27 [============>.................] - ETA: 0s - loss: 0.1894 - accuracy: 0.9349\n",
      "Epoch 60: saving model to model/keypoint_classifier\\keypoint_classifier.hdf5\n",
      "27/27 [==============================] - 0s 6ms/step - loss: 0.1834 - accuracy: 0.9326 - val_loss: 0.0582 - val_accuracy: 0.9860\n",
      "Epoch 61/1000\n",
      "19/27 [====================>.........] - ETA: 0s - loss: 0.1747 - accuracy: 0.9346\n",
      "Epoch 61: saving model to model/keypoint_classifier\\keypoint_classifier.hdf5\n",
      "27/27 [==============================] - 0s 7ms/step - loss: 0.1765 - accuracy: 0.9347 - val_loss: 0.0665 - val_accuracy: 0.9825\n",
      "Epoch 62/1000\n",
      "24/27 [=========================>....] - ETA: 0s - loss: 0.1735 - accuracy: 0.9385\n",
      "Epoch 62: saving model to model/keypoint_classifier\\keypoint_classifier.hdf5\n",
      "27/27 [==============================] - 0s 5ms/step - loss: 0.1758 - accuracy: 0.9384 - val_loss: 0.0607 - val_accuracy: 0.9834\n",
      "Epoch 63/1000\n",
      "27/27 [==============================] - ETA: 0s - loss: 0.1813 - accuracy: 0.9370\n",
      "Epoch 63: saving model to model/keypoint_classifier\\keypoint_classifier.hdf5\n",
      "27/27 [==============================] - 0s 5ms/step - loss: 0.1813 - accuracy: 0.9370 - val_loss: 0.0617 - val_accuracy: 0.9834\n",
      "Epoch 64/1000\n",
      "27/27 [==============================] - ETA: 0s - loss: 0.1967 - accuracy: 0.9297\n",
      "Epoch 64: saving model to model/keypoint_classifier\\keypoint_classifier.hdf5\n",
      "27/27 [==============================] - 0s 5ms/step - loss: 0.1967 - accuracy: 0.9297 - val_loss: 0.0597 - val_accuracy: 0.9834\n",
      "Epoch 65/1000\n",
      "27/27 [==============================] - ETA: 0s - loss: 0.1813 - accuracy: 0.9352\n",
      "Epoch 65: saving model to model/keypoint_classifier\\keypoint_classifier.hdf5\n",
      "27/27 [==============================] - 0s 5ms/step - loss: 0.1813 - accuracy: 0.9352 - val_loss: 0.0598 - val_accuracy: 0.9843\n",
      "Epoch 66/1000\n",
      "27/27 [==============================] - ETA: 0s - loss: 0.1851 - accuracy: 0.9326\n",
      "Epoch 66: saving model to model/keypoint_classifier\\keypoint_classifier.hdf5\n",
      "27/27 [==============================] - 0s 5ms/step - loss: 0.1851 - accuracy: 0.9326 - val_loss: 0.0578 - val_accuracy: 0.9843\n",
      "Epoch 67/1000\n",
      "19/27 [====================>.........] - ETA: 0s - loss: 0.2016 - accuracy: 0.9285\n",
      "Epoch 67: saving model to model/keypoint_classifier\\keypoint_classifier.hdf5\n",
      "27/27 [==============================] - 0s 7ms/step - loss: 0.1994 - accuracy: 0.9314 - val_loss: 0.0633 - val_accuracy: 0.9834\n",
      "Epoch 68/1000\n",
      "19/27 [====================>.........] - ETA: 0s - loss: 0.1816 - accuracy: 0.9363\n",
      "Epoch 68: saving model to model/keypoint_classifier\\keypoint_classifier.hdf5\n",
      "27/27 [==============================] - 0s 7ms/step - loss: 0.1802 - accuracy: 0.9364 - val_loss: 0.0592 - val_accuracy: 0.9816\n",
      "Epoch 69/1000\n",
      "22/27 [=======================>......] - ETA: 0s - loss: 0.1609 - accuracy: 0.9435\n",
      "Epoch 69: saving model to model/keypoint_classifier\\keypoint_classifier.hdf5\n",
      "27/27 [==============================] - 0s 5ms/step - loss: 0.1674 - accuracy: 0.9399 - val_loss: 0.0602 - val_accuracy: 0.9816\n",
      "Epoch 70/1000\n",
      " 1/27 [>.............................] - ETA: 0s - loss: 0.1731 - accuracy: 0.9531\n",
      "Epoch 70: saving model to model/keypoint_classifier\\keypoint_classifier.hdf5\n",
      "27/27 [==============================] - 0s 4ms/step - loss: 0.1670 - accuracy: 0.9408 - val_loss: 0.0575 - val_accuracy: 0.9834\n",
      "Epoch 71/1000\n",
      " 1/27 [>.............................] - ETA: 0s - loss: 0.1297 - accuracy: 0.9453\n",
      "Epoch 71: saving model to model/keypoint_classifier\\keypoint_classifier.hdf5\n",
      "27/27 [==============================] - 0s 4ms/step - loss: 0.1758 - accuracy: 0.9370 - val_loss: 0.0598 - val_accuracy: 0.9781\n",
      "Epoch 72/1000\n",
      " 1/27 [>.............................] - ETA: 0s - loss: 0.1689 - accuracy: 0.9219\n",
      "Epoch 72: saving model to model/keypoint_classifier\\keypoint_classifier.hdf5\n",
      "27/27 [==============================] - 0s 4ms/step - loss: 0.1618 - accuracy: 0.9376 - val_loss: 0.0549 - val_accuracy: 0.9834\n",
      "Epoch 73/1000\n",
      " 1/27 [>.............................] - ETA: 0s - loss: 0.1804 - accuracy: 0.9219\n",
      "Epoch 73: saving model to model/keypoint_classifier\\keypoint_classifier.hdf5\n",
      "27/27 [==============================] - 0s 5ms/step - loss: 0.1697 - accuracy: 0.9364 - val_loss: 0.0526 - val_accuracy: 0.9825\n",
      "Epoch 74/1000\n",
      "22/27 [=======================>......] - ETA: 0s - loss: 0.1694 - accuracy: 0.9389\n",
      "Epoch 74: saving model to model/keypoint_classifier\\keypoint_classifier.hdf5\n",
      "27/27 [==============================] - 0s 6ms/step - loss: 0.1731 - accuracy: 0.9364 - val_loss: 0.0525 - val_accuracy: 0.9834\n",
      "Epoch 75/1000\n",
      "21/27 [======================>.......] - ETA: 0s - loss: 0.1571 - accuracy: 0.9427\n",
      "Epoch 75: saving model to model/keypoint_classifier\\keypoint_classifier.hdf5\n",
      "27/27 [==============================] - 0s 6ms/step - loss: 0.1582 - accuracy: 0.9443 - val_loss: 0.0474 - val_accuracy: 0.9860\n",
      "Epoch 76/1000\n",
      "19/27 [====================>.........] - ETA: 0s - loss: 0.1600 - accuracy: 0.9416\n",
      "Epoch 76: saving model to model/keypoint_classifier\\keypoint_classifier.hdf5\n",
      "27/27 [==============================] - 0s 7ms/step - loss: 0.1668 - accuracy: 0.9399 - val_loss: 0.0527 - val_accuracy: 0.9834\n",
      "Epoch 77/1000\n",
      "26/27 [===========================>..] - ETA: 0s - loss: 0.1645 - accuracy: 0.9390\n",
      "Epoch 77: saving model to model/keypoint_classifier\\keypoint_classifier.hdf5\n",
      "27/27 [==============================] - 0s 10ms/step - loss: 0.1662 - accuracy: 0.9387 - val_loss: 0.0513 - val_accuracy: 0.9843\n",
      "Epoch 78/1000\n",
      "14/27 [==============>...............] - ETA: 0s - loss: 0.1654 - accuracy: 0.9397\n",
      "Epoch 78: saving model to model/keypoint_classifier\\keypoint_classifier.hdf5\n",
      "27/27 [==============================] - 0s 9ms/step - loss: 0.1667 - accuracy: 0.9376 - val_loss: 0.0517 - val_accuracy: 0.9843\n",
      "Epoch 79/1000\n",
      " 1/27 [>.............................] - ETA: 0s - loss: 0.0985 - accuracy: 0.9766\n",
      "Epoch 79: saving model to model/keypoint_classifier\\keypoint_classifier.hdf5\n",
      "27/27 [==============================] - 0s 4ms/step - loss: 0.1548 - accuracy: 0.9446 - val_loss: 0.0485 - val_accuracy: 0.9851\n",
      "Epoch 80/1000\n",
      " 1/27 [>.............................] - ETA: 0s - loss: 0.1522 - accuracy: 0.9531\n",
      "Epoch 80: saving model to model/keypoint_classifier\\keypoint_classifier.hdf5\n",
      "27/27 [==============================] - 0s 4ms/step - loss: 0.1545 - accuracy: 0.9469 - val_loss: 0.0510 - val_accuracy: 0.9834\n",
      "Epoch 81/1000\n",
      " 1/27 [>.............................] - ETA: 0s - loss: 0.2139 - accuracy: 0.9141\n",
      "Epoch 81: saving model to model/keypoint_classifier\\keypoint_classifier.hdf5\n",
      "27/27 [==============================] - 0s 4ms/step - loss: 0.1714 - accuracy: 0.9376 - val_loss: 0.0490 - val_accuracy: 0.9843\n",
      "Epoch 82/1000\n"
     ]
    },
    {
     "name": "stdout",
     "output_type": "stream",
     "text": [
      "27/27 [==============================] - ETA: 0s - loss: 0.1712 - accuracy: 0.9376\n",
      "Epoch 82: saving model to model/keypoint_classifier\\keypoint_classifier.hdf5\n",
      "27/27 [==============================] - 0s 5ms/step - loss: 0.1712 - accuracy: 0.9376 - val_loss: 0.0500 - val_accuracy: 0.9834\n",
      "Epoch 83/1000\n",
      "24/27 [=========================>....] - ETA: 0s - loss: 0.1538 - accuracy: 0.9460\n",
      "Epoch 83: saving model to model/keypoint_classifier\\keypoint_classifier.hdf5\n",
      "27/27 [==============================] - 0s 5ms/step - loss: 0.1534 - accuracy: 0.9478 - val_loss: 0.0459 - val_accuracy: 0.9834\n",
      "Epoch 84/1000\n",
      " 1/27 [>.............................] - ETA: 0s - loss: 0.0837 - accuracy: 0.9844\n",
      "Epoch 84: saving model to model/keypoint_classifier\\keypoint_classifier.hdf5\n",
      "27/27 [==============================] - 0s 4ms/step - loss: 0.1658 - accuracy: 0.9402 - val_loss: 0.0479 - val_accuracy: 0.9843\n",
      "Epoch 85/1000\n",
      " 1/27 [>.............................] - ETA: 0s - loss: 0.1286 - accuracy: 0.9531\n",
      "Epoch 85: saving model to model/keypoint_classifier\\keypoint_classifier.hdf5\n",
      "27/27 [==============================] - 0s 4ms/step - loss: 0.1739 - accuracy: 0.9344 - val_loss: 0.0557 - val_accuracy: 0.9773\n",
      "Epoch 86/1000\n",
      " 1/27 [>.............................] - ETA: 0s - loss: 0.1412 - accuracy: 0.9375\n",
      "Epoch 86: saving model to model/keypoint_classifier\\keypoint_classifier.hdf5\n",
      "27/27 [==============================] - 0s 5ms/step - loss: 0.1641 - accuracy: 0.9379 - val_loss: 0.0464 - val_accuracy: 0.9834\n",
      "Epoch 87/1000\n",
      " 1/27 [>.............................] - ETA: 0s - loss: 0.1769 - accuracy: 0.9609\n",
      "Epoch 87: saving model to model/keypoint_classifier\\keypoint_classifier.hdf5\n",
      "27/27 [==============================] - 0s 5ms/step - loss: 0.1564 - accuracy: 0.9452 - val_loss: 0.0484 - val_accuracy: 0.9834\n",
      "Epoch 88/1000\n",
      "27/27 [==============================] - ETA: 0s - loss: 0.1633 - accuracy: 0.9376\n",
      "Epoch 88: saving model to model/keypoint_classifier\\keypoint_classifier.hdf5\n",
      "27/27 [==============================] - 0s 5ms/step - loss: 0.1633 - accuracy: 0.9376 - val_loss: 0.0453 - val_accuracy: 0.9834\n",
      "Epoch 89/1000\n",
      " 1/27 [>.............................] - ETA: 0s - loss: 0.1676 - accuracy: 0.9297\n",
      "Epoch 89: saving model to model/keypoint_classifier\\keypoint_classifier.hdf5\n",
      "27/27 [==============================] - 0s 5ms/step - loss: 0.1594 - accuracy: 0.9399 - val_loss: 0.0522 - val_accuracy: 0.9773\n",
      "Epoch 90/1000\n",
      "21/27 [======================>.......] - ETA: 0s - loss: 0.1517 - accuracy: 0.9435\n",
      "Epoch 90: saving model to model/keypoint_classifier\\keypoint_classifier.hdf5\n",
      "27/27 [==============================] - 0s 6ms/step - loss: 0.1594 - accuracy: 0.9414 - val_loss: 0.0475 - val_accuracy: 0.9834\n",
      "Epoch 91/1000\n",
      "20/27 [=====================>........] - ETA: 0s - loss: 0.1587 - accuracy: 0.9430\n",
      "Epoch 91: saving model to model/keypoint_classifier\\keypoint_classifier.hdf5\n",
      "27/27 [==============================] - 0s 5ms/step - loss: 0.1642 - accuracy: 0.9411 - val_loss: 0.0477 - val_accuracy: 0.9834\n",
      "Epoch 92/1000\n",
      "25/27 [==========================>...] - ETA: 0s - loss: 0.1528 - accuracy: 0.9419\n",
      "Epoch 92: saving model to model/keypoint_classifier\\keypoint_classifier.hdf5\n",
      "27/27 [==============================] - 0s 5ms/step - loss: 0.1540 - accuracy: 0.9417 - val_loss: 0.0432 - val_accuracy: 0.9834\n",
      "Epoch 93/1000\n",
      "23/27 [========================>.....] - ETA: 0s - loss: 0.1421 - accuracy: 0.9490\n",
      "Epoch 93: saving model to model/keypoint_classifier\\keypoint_classifier.hdf5\n",
      "27/27 [==============================] - 0s 5ms/step - loss: 0.1432 - accuracy: 0.9492 - val_loss: 0.0483 - val_accuracy: 0.9816\n",
      "Epoch 94/1000\n",
      "27/27 [==============================] - ETA: 0s - loss: 0.1653 - accuracy: 0.9370\n",
      "Epoch 94: saving model to model/keypoint_classifier\\keypoint_classifier.hdf5\n",
      "27/27 [==============================] - 0s 7ms/step - loss: 0.1653 - accuracy: 0.9370 - val_loss: 0.0432 - val_accuracy: 0.9843\n",
      "Epoch 95/1000\n",
      "21/27 [======================>.......] - ETA: 0s - loss: 0.1629 - accuracy: 0.9397\n",
      "Epoch 95: saving model to model/keypoint_classifier\\keypoint_classifier.hdf5\n",
      "27/27 [==============================] - 0s 8ms/step - loss: 0.1588 - accuracy: 0.9422 - val_loss: 0.0432 - val_accuracy: 0.9834\n",
      "Epoch 96/1000\n",
      "18/27 [===================>..........] - ETA: 0s - loss: 0.1576 - accuracy: 0.9414\n",
      "Epoch 96: saving model to model/keypoint_classifier\\keypoint_classifier.hdf5\n",
      "27/27 [==============================] - 0s 11ms/step - loss: 0.1553 - accuracy: 0.9419 - val_loss: 0.0496 - val_accuracy: 0.9816\n",
      "Epoch 97/1000\n",
      "20/27 [=====================>........] - ETA: 0s - loss: 0.1611 - accuracy: 0.9410\n",
      "Epoch 97: saving model to model/keypoint_classifier\\keypoint_classifier.hdf5\n",
      "27/27 [==============================] - 0s 6ms/step - loss: 0.1616 - accuracy: 0.9417 - val_loss: 0.0479 - val_accuracy: 0.9816\n",
      "Epoch 98/1000\n",
      "23/27 [========================>.....] - ETA: 0s - loss: 0.1601 - accuracy: 0.9419\n",
      "Epoch 98: saving model to model/keypoint_classifier\\keypoint_classifier.hdf5\n",
      "27/27 [==============================] - 0s 5ms/step - loss: 0.1571 - accuracy: 0.9440 - val_loss: 0.0483 - val_accuracy: 0.9825\n",
      "Epoch 99/1000\n",
      "24/27 [=========================>....] - ETA: 0s - loss: 0.1685 - accuracy: 0.9365\n",
      "Epoch 99: saving model to model/keypoint_classifier\\keypoint_classifier.hdf5\n",
      "27/27 [==============================] - 0s 5ms/step - loss: 0.1665 - accuracy: 0.9373 - val_loss: 0.0433 - val_accuracy: 0.9869\n",
      "Epoch 100/1000\n",
      " 1/27 [>.............................] - ETA: 0s - loss: 0.2141 - accuracy: 0.9297\n",
      "Epoch 100: saving model to model/keypoint_classifier\\keypoint_classifier.hdf5\n",
      "27/27 [==============================] - 0s 5ms/step - loss: 0.1606 - accuracy: 0.9428 - val_loss: 0.0459 - val_accuracy: 0.9843\n",
      "Epoch 101/1000\n",
      "27/27 [==============================] - ETA: 0s - loss: 0.1548 - accuracy: 0.9443\n",
      "Epoch 101: saving model to model/keypoint_classifier\\keypoint_classifier.hdf5\n",
      "27/27 [==============================] - 0s 5ms/step - loss: 0.1548 - accuracy: 0.9443 - val_loss: 0.0454 - val_accuracy: 0.9825\n",
      "Epoch 102/1000\n",
      "27/27 [==============================] - ETA: 0s - loss: 0.1527 - accuracy: 0.9417\n",
      "Epoch 102: saving model to model/keypoint_classifier\\keypoint_classifier.hdf5\n",
      "27/27 [==============================] - 0s 5ms/step - loss: 0.1527 - accuracy: 0.9417 - val_loss: 0.0413 - val_accuracy: 0.9843\n",
      "Epoch 103/1000\n",
      "26/27 [===========================>..] - ETA: 0s - loss: 0.1550 - accuracy: 0.9429\n",
      "Epoch 103: saving model to model/keypoint_classifier\\keypoint_classifier.hdf5\n",
      "27/27 [==============================] - 0s 5ms/step - loss: 0.1552 - accuracy: 0.9437 - val_loss: 0.0454 - val_accuracy: 0.9834\n",
      "Epoch 104/1000\n",
      "25/27 [==========================>...] - ETA: 0s - loss: 0.1545 - accuracy: 0.9413\n",
      "Epoch 104: saving model to model/keypoint_classifier\\keypoint_classifier.hdf5\n",
      "27/27 [==============================] - 0s 5ms/step - loss: 0.1510 - accuracy: 0.9437 - val_loss: 0.0428 - val_accuracy: 0.9843\n",
      "Epoch 105/1000\n",
      "27/27 [==============================] - ETA: 0s - loss: 0.1584 - accuracy: 0.9425\n",
      "Epoch 105: saving model to model/keypoint_classifier\\keypoint_classifier.hdf5\n",
      "27/27 [==============================] - 0s 5ms/step - loss: 0.1584 - accuracy: 0.9425 - val_loss: 0.0409 - val_accuracy: 0.9843\n",
      "Epoch 106/1000\n",
      "25/27 [==========================>...] - ETA: 0s - loss: 0.1395 - accuracy: 0.9475\n",
      "Epoch 106: saving model to model/keypoint_classifier\\keypoint_classifier.hdf5\n",
      "27/27 [==============================] - 0s 5ms/step - loss: 0.1398 - accuracy: 0.9481 - val_loss: 0.0431 - val_accuracy: 0.9834\n",
      "Epoch 107/1000\n",
      "26/27 [===========================>..] - ETA: 0s - loss: 0.1555 - accuracy: 0.9432\n",
      "Epoch 107: saving model to model/keypoint_classifier\\keypoint_classifier.hdf5\n",
      "27/27 [==============================] - 0s 5ms/step - loss: 0.1540 - accuracy: 0.9434 - val_loss: 0.0419 - val_accuracy: 0.9843\n",
      "Epoch 108/1000\n",
      "26/27 [===========================>..] - ETA: 0s - loss: 0.1613 - accuracy: 0.9348\n",
      "Epoch 108: saving model to model/keypoint_classifier\\keypoint_classifier.hdf5\n",
      "27/27 [==============================] - 0s 5ms/step - loss: 0.1601 - accuracy: 0.9355 - val_loss: 0.0404 - val_accuracy: 0.9843\n",
      "Epoch 109/1000\n"
     ]
    },
    {
     "name": "stdout",
     "output_type": "stream",
     "text": [
      "27/27 [==============================] - ETA: 0s - loss: 0.1628 - accuracy: 0.9396\n",
      "Epoch 109: saving model to model/keypoint_classifier\\keypoint_classifier.hdf5\n",
      "27/27 [==============================] - 0s 5ms/step - loss: 0.1628 - accuracy: 0.9396 - val_loss: 0.0411 - val_accuracy: 0.9834\n",
      "Epoch 110/1000\n",
      "27/27 [==============================] - ETA: 0s - loss: 0.1502 - accuracy: 0.9484\n",
      "Epoch 110: saving model to model/keypoint_classifier\\keypoint_classifier.hdf5\n",
      "27/27 [==============================] - 0s 5ms/step - loss: 0.1502 - accuracy: 0.9484 - val_loss: 0.0433 - val_accuracy: 0.9860\n",
      "Epoch 111/1000\n",
      "25/27 [==========================>...] - ETA: 0s - loss: 0.1424 - accuracy: 0.9466\n",
      "Epoch 111: saving model to model/keypoint_classifier\\keypoint_classifier.hdf5\n",
      "27/27 [==============================] - 0s 5ms/step - loss: 0.1415 - accuracy: 0.9469 - val_loss: 0.0399 - val_accuracy: 0.9843\n",
      "Epoch 112/1000\n",
      "26/27 [===========================>..] - ETA: 0s - loss: 0.1501 - accuracy: 0.9444\n",
      "Epoch 112: saving model to model/keypoint_classifier\\keypoint_classifier.hdf5\n",
      "27/27 [==============================] - 0s 5ms/step - loss: 0.1486 - accuracy: 0.9452 - val_loss: 0.0442 - val_accuracy: 0.9834\n",
      "Epoch 113/1000\n",
      " 1/27 [>.............................] - ETA: 0s - loss: 0.1902 - accuracy: 0.9453\n",
      "Epoch 113: saving model to model/keypoint_classifier\\keypoint_classifier.hdf5\n",
      "27/27 [==============================] - 0s 4ms/step - loss: 0.1490 - accuracy: 0.9463 - val_loss: 0.0395 - val_accuracy: 0.9843\n",
      "Epoch 114/1000\n",
      " 1/27 [>.............................] - ETA: 0s - loss: 0.2052 - accuracy: 0.9219\n",
      "Epoch 114: saving model to model/keypoint_classifier\\keypoint_classifier.hdf5\n",
      "27/27 [==============================] - 0s 4ms/step - loss: 0.1429 - accuracy: 0.9452 - val_loss: 0.0349 - val_accuracy: 0.9886\n",
      "Epoch 115/1000\n",
      "26/27 [===========================>..] - ETA: 0s - loss: 0.1532 - accuracy: 0.9489\n",
      "Epoch 115: saving model to model/keypoint_classifier\\keypoint_classifier.hdf5\n",
      "27/27 [==============================] - 0s 5ms/step - loss: 0.1528 - accuracy: 0.9489 - val_loss: 0.0415 - val_accuracy: 0.9860\n",
      "Epoch 116/1000\n",
      " 1/27 [>.............................] - ETA: 0s - loss: 0.1559 - accuracy: 0.9219\n",
      "Epoch 116: saving model to model/keypoint_classifier\\keypoint_classifier.hdf5\n",
      "27/27 [==============================] - 0s 4ms/step - loss: 0.1447 - accuracy: 0.9454 - val_loss: 0.0377 - val_accuracy: 0.9878\n",
      "Epoch 117/1000\n",
      "27/27 [==============================] - ETA: 0s - loss: 0.1447 - accuracy: 0.9484\n",
      "Epoch 117: saving model to model/keypoint_classifier\\keypoint_classifier.hdf5\n",
      "27/27 [==============================] - 0s 5ms/step - loss: 0.1447 - accuracy: 0.9484 - val_loss: 0.0418 - val_accuracy: 0.9843\n",
      "Epoch 118/1000\n",
      " 1/27 [>.............................] - ETA: 0s - loss: 0.2377 - accuracy: 0.9141\n",
      "Epoch 118: saving model to model/keypoint_classifier\\keypoint_classifier.hdf5\n",
      "27/27 [==============================] - 0s 4ms/step - loss: 0.1473 - accuracy: 0.9449 - val_loss: 0.0408 - val_accuracy: 0.9860\n",
      "Epoch 119/1000\n",
      " 1/27 [>.............................] - ETA: 0s - loss: 0.1782 - accuracy: 0.9141\n",
      "Epoch 119: saving model to model/keypoint_classifier\\keypoint_classifier.hdf5\n",
      "27/27 [==============================] - 0s 5ms/step - loss: 0.1417 - accuracy: 0.9452 - val_loss: 0.0425 - val_accuracy: 0.9808\n",
      "Epoch 120/1000\n",
      "27/27 [==============================] - ETA: 0s - loss: 0.1554 - accuracy: 0.9422\n",
      "Epoch 120: saving model to model/keypoint_classifier\\keypoint_classifier.hdf5\n",
      "27/27 [==============================] - 0s 4ms/step - loss: 0.1554 - accuracy: 0.9422 - val_loss: 0.0386 - val_accuracy: 0.9869\n",
      "Epoch 121/1000\n",
      " 1/27 [>.............................] - ETA: 0s - loss: 0.1258 - accuracy: 0.9609\n",
      "Epoch 121: saving model to model/keypoint_classifier\\keypoint_classifier.hdf5\n",
      "27/27 [==============================] - 0s 4ms/step - loss: 0.1469 - accuracy: 0.9443 - val_loss: 0.0352 - val_accuracy: 0.9878\n",
      "Epoch 122/1000\n",
      "27/27 [==============================] - ETA: 0s - loss: 0.1496 - accuracy: 0.9428\n",
      "Epoch 122: saving model to model/keypoint_classifier\\keypoint_classifier.hdf5\n",
      "27/27 [==============================] - 0s 5ms/step - loss: 0.1496 - accuracy: 0.9428 - val_loss: 0.0450 - val_accuracy: 0.9816\n",
      "Epoch 123/1000\n",
      " 1/27 [>.............................] - ETA: 0s - loss: 0.2183 - accuracy: 0.9297\n",
      "Epoch 123: saving model to model/keypoint_classifier\\keypoint_classifier.hdf5\n",
      "27/27 [==============================] - 0s 5ms/step - loss: 0.1502 - accuracy: 0.9452 - val_loss: 0.0380 - val_accuracy: 0.9904\n",
      "Epoch 124/1000\n",
      "26/27 [===========================>..] - ETA: 0s - loss: 0.1477 - accuracy: 0.9483\n",
      "Epoch 124: saving model to model/keypoint_classifier\\keypoint_classifier.hdf5\n",
      "27/27 [==============================] - 0s 5ms/step - loss: 0.1484 - accuracy: 0.9472 - val_loss: 0.0358 - val_accuracy: 0.9878\n",
      "Epoch 125/1000\n",
      " 1/27 [>.............................] - ETA: 0s - loss: 0.1853 - accuracy: 0.9375\n",
      "Epoch 125: saving model to model/keypoint_classifier\\keypoint_classifier.hdf5\n",
      "27/27 [==============================] - 0s 5ms/step - loss: 0.1323 - accuracy: 0.9487 - val_loss: 0.0399 - val_accuracy: 0.9869\n",
      "Epoch 126/1000\n",
      "25/27 [==========================>...] - ETA: 0s - loss: 0.1469 - accuracy: 0.9509\n",
      "Epoch 126: saving model to model/keypoint_classifier\\keypoint_classifier.hdf5\n",
      "27/27 [==============================] - 0s 5ms/step - loss: 0.1500 - accuracy: 0.9498 - val_loss: 0.0405 - val_accuracy: 0.9860\n",
      "Epoch 127/1000\n",
      "26/27 [===========================>..] - ETA: 0s - loss: 0.1330 - accuracy: 0.9489\n",
      "Epoch 127: saving model to model/keypoint_classifier\\keypoint_classifier.hdf5\n",
      "27/27 [==============================] - 0s 5ms/step - loss: 0.1340 - accuracy: 0.9489 - val_loss: 0.0379 - val_accuracy: 0.9895\n",
      "Epoch 128/1000\n",
      "27/27 [==============================] - ETA: 0s - loss: 0.1524 - accuracy: 0.9440\n",
      "Epoch 128: saving model to model/keypoint_classifier\\keypoint_classifier.hdf5\n",
      "27/27 [==============================] - 0s 5ms/step - loss: 0.1524 - accuracy: 0.9440 - val_loss: 0.0376 - val_accuracy: 0.9860\n",
      "Epoch 129/1000\n",
      "26/27 [===========================>..] - ETA: 0s - loss: 0.1465 - accuracy: 0.9510\n",
      "Epoch 129: saving model to model/keypoint_classifier\\keypoint_classifier.hdf5\n",
      "27/27 [==============================] - 0s 5ms/step - loss: 0.1458 - accuracy: 0.9510 - val_loss: 0.0432 - val_accuracy: 0.9843\n",
      "Epoch 130/1000\n",
      "26/27 [===========================>..] - ETA: 0s - loss: 0.1477 - accuracy: 0.9447\n",
      "Epoch 130: saving model to model/keypoint_classifier\\keypoint_classifier.hdf5\n",
      "27/27 [==============================] - 0s 5ms/step - loss: 0.1462 - accuracy: 0.9452 - val_loss: 0.0385 - val_accuracy: 0.9860\n",
      "Epoch 131/1000\n",
      "26/27 [===========================>..] - ETA: 0s - loss: 0.1408 - accuracy: 0.9465\n",
      "Epoch 131: saving model to model/keypoint_classifier\\keypoint_classifier.hdf5\n",
      "27/27 [==============================] - 0s 7ms/step - loss: 0.1403 - accuracy: 0.9469 - val_loss: 0.0375 - val_accuracy: 0.9869\n",
      "Epoch 132/1000\n",
      "21/27 [======================>.......] - ETA: 0s - loss: 0.1470 - accuracy: 0.9457\n",
      "Epoch 132: saving model to model/keypoint_classifier\\keypoint_classifier.hdf5\n",
      "27/27 [==============================] - 0s 12ms/step - loss: 0.1479 - accuracy: 0.9452 - val_loss: 0.0362 - val_accuracy: 0.9878\n",
      "Epoch 133/1000\n",
      "11/27 [===========>..................] - ETA: 0s - loss: 0.1474 - accuracy: 0.9553\n",
      "Epoch 133: saving model to model/keypoint_classifier\\keypoint_classifier.hdf5\n",
      "27/27 [==============================] - 0s 6ms/step - loss: 0.1502 - accuracy: 0.9489 - val_loss: 0.0377 - val_accuracy: 0.9895\n",
      "Epoch 134/1000\n",
      "27/27 [==============================] - ETA: 0s - loss: 0.1465 - accuracy: 0.9419\n",
      "Epoch 134: saving model to model/keypoint_classifier\\keypoint_classifier.hdf5\n",
      "27/27 [==============================] - 0s 5ms/step - loss: 0.1465 - accuracy: 0.9419 - val_loss: 0.0344 - val_accuracy: 0.9895\n",
      "Epoch 135/1000\n",
      "27/27 [==============================] - ETA: 0s - loss: 0.1369 - accuracy: 0.9487\n",
      "Epoch 135: saving model to model/keypoint_classifier\\keypoint_classifier.hdf5\n",
      "27/27 [==============================] - 0s 5ms/step - loss: 0.1369 - accuracy: 0.9487 - val_loss: 0.0379 - val_accuracy: 0.9895\n"
     ]
    },
    {
     "name": "stdout",
     "output_type": "stream",
     "text": [
      "Epoch 136/1000\n",
      "26/27 [===========================>..] - ETA: 0s - loss: 0.1415 - accuracy: 0.9489\n",
      "Epoch 136: saving model to model/keypoint_classifier\\keypoint_classifier.hdf5\n",
      "27/27 [==============================] - 0s 5ms/step - loss: 0.1431 - accuracy: 0.9484 - val_loss: 0.0381 - val_accuracy: 0.9904\n",
      "Epoch 137/1000\n",
      "27/27 [==============================] - ETA: 0s - loss: 0.1223 - accuracy: 0.9551\n",
      "Epoch 137: saving model to model/keypoint_classifier\\keypoint_classifier.hdf5\n",
      "27/27 [==============================] - 0s 5ms/step - loss: 0.1223 - accuracy: 0.9551 - val_loss: 0.0346 - val_accuracy: 0.9895\n",
      "Epoch 138/1000\n",
      " 1/27 [>.............................] - ETA: 0s - loss: 0.1571 - accuracy: 0.9375\n",
      "Epoch 138: saving model to model/keypoint_classifier\\keypoint_classifier.hdf5\n",
      "27/27 [==============================] - 0s 5ms/step - loss: 0.1485 - accuracy: 0.9408 - val_loss: 0.0418 - val_accuracy: 0.9825\n",
      "Epoch 139/1000\n",
      "26/27 [===========================>..] - ETA: 0s - loss: 0.1403 - accuracy: 0.9471\n",
      "Epoch 139: saving model to model/keypoint_classifier\\keypoint_classifier.hdf5\n",
      "27/27 [==============================] - 0s 5ms/step - loss: 0.1387 - accuracy: 0.9481 - val_loss: 0.0402 - val_accuracy: 0.9869\n",
      "Epoch 140/1000\n",
      "26/27 [===========================>..] - ETA: 0s - loss: 0.1347 - accuracy: 0.9507\n",
      "Epoch 140: saving model to model/keypoint_classifier\\keypoint_classifier.hdf5\n",
      "27/27 [==============================] - 0s 5ms/step - loss: 0.1337 - accuracy: 0.9513 - val_loss: 0.0349 - val_accuracy: 0.9869\n",
      "Epoch 141/1000\n",
      "25/27 [==========================>...] - ETA: 0s - loss: 0.1376 - accuracy: 0.9500\n",
      "Epoch 141: saving model to model/keypoint_classifier\\keypoint_classifier.hdf5\n",
      "27/27 [==============================] - 0s 5ms/step - loss: 0.1386 - accuracy: 0.9489 - val_loss: 0.0431 - val_accuracy: 0.9799\n",
      "Epoch 142/1000\n",
      "26/27 [===========================>..] - ETA: 0s - loss: 0.1328 - accuracy: 0.9552\n",
      "Epoch 142: saving model to model/keypoint_classifier\\keypoint_classifier.hdf5\n",
      "27/27 [==============================] - 0s 5ms/step - loss: 0.1321 - accuracy: 0.9551 - val_loss: 0.0341 - val_accuracy: 0.9878\n",
      "Epoch 143/1000\n",
      "26/27 [===========================>..] - ETA: 0s - loss: 0.1460 - accuracy: 0.9432\n",
      "Epoch 143: saving model to model/keypoint_classifier\\keypoint_classifier.hdf5\n",
      "27/27 [==============================] - 0s 5ms/step - loss: 0.1460 - accuracy: 0.9434 - val_loss: 0.0346 - val_accuracy: 0.9869\n",
      "Epoch 144/1000\n",
      "26/27 [===========================>..] - ETA: 0s - loss: 0.1490 - accuracy: 0.9483\n",
      "Epoch 144: saving model to model/keypoint_classifier\\keypoint_classifier.hdf5\n",
      "27/27 [==============================] - 0s 5ms/step - loss: 0.1498 - accuracy: 0.9478 - val_loss: 0.0389 - val_accuracy: 0.9834\n",
      "Epoch 145/1000\n",
      "26/27 [===========================>..] - ETA: 0s - loss: 0.1519 - accuracy: 0.9447\n",
      "Epoch 145: saving model to model/keypoint_classifier\\keypoint_classifier.hdf5\n",
      "27/27 [==============================] - 0s 5ms/step - loss: 0.1513 - accuracy: 0.9449 - val_loss: 0.0382 - val_accuracy: 0.9886\n",
      "Epoch 146/1000\n",
      "26/27 [===========================>..] - ETA: 0s - loss: 0.1425 - accuracy: 0.9498\n",
      "Epoch 146: saving model to model/keypoint_classifier\\keypoint_classifier.hdf5\n",
      "27/27 [==============================] - 0s 5ms/step - loss: 0.1414 - accuracy: 0.9495 - val_loss: 0.0345 - val_accuracy: 0.9878\n",
      "Epoch 147/1000\n",
      "25/27 [==========================>...] - ETA: 0s - loss: 0.1255 - accuracy: 0.9547\n",
      "Epoch 147: saving model to model/keypoint_classifier\\keypoint_classifier.hdf5\n",
      "27/27 [==============================] - 0s 5ms/step - loss: 0.1301 - accuracy: 0.9527 - val_loss: 0.0363 - val_accuracy: 0.9869\n",
      "Epoch 148/1000\n",
      "25/27 [==========================>...] - ETA: 0s - loss: 0.1305 - accuracy: 0.9500\n",
      "Epoch 148: saving model to model/keypoint_classifier\\keypoint_classifier.hdf5\n",
      "27/27 [==============================] - 0s 5ms/step - loss: 0.1288 - accuracy: 0.9510 - val_loss: 0.0380 - val_accuracy: 0.9869\n",
      "Epoch 149/1000\n",
      "21/27 [======================>.......] - ETA: 0s - loss: 0.1484 - accuracy: 0.9438\n",
      "Epoch 149: saving model to model/keypoint_classifier\\keypoint_classifier.hdf5\n",
      "27/27 [==============================] - 0s 6ms/step - loss: 0.1495 - accuracy: 0.9431 - val_loss: 0.0399 - val_accuracy: 0.9825\n",
      "Epoch 150/1000\n",
      "21/27 [======================>.......] - ETA: 0s - loss: 0.1397 - accuracy: 0.9520\n",
      "Epoch 150: saving model to model/keypoint_classifier\\keypoint_classifier.hdf5\n",
      "27/27 [==============================] - 0s 6ms/step - loss: 0.1365 - accuracy: 0.9554 - val_loss: 0.0374 - val_accuracy: 0.9869\n",
      "Epoch 151/1000\n",
      "27/27 [==============================] - ETA: 0s - loss: 0.1464 - accuracy: 0.9428\n",
      "Epoch 151: saving model to model/keypoint_classifier\\keypoint_classifier.hdf5\n",
      "27/27 [==============================] - 0s 13ms/step - loss: 0.1464 - accuracy: 0.9428 - val_loss: 0.0338 - val_accuracy: 0.9869\n",
      "Epoch 152/1000\n",
      "26/27 [===========================>..] - ETA: 0s - loss: 0.1373 - accuracy: 0.9498\n",
      "Epoch 152: saving model to model/keypoint_classifier\\keypoint_classifier.hdf5\n",
      "27/27 [==============================] - 0s 12ms/step - loss: 0.1375 - accuracy: 0.9498 - val_loss: 0.0369 - val_accuracy: 0.9886\n",
      "Epoch 153/1000\n",
      "22/27 [=======================>......] - ETA: 0s - loss: 0.1392 - accuracy: 0.9506\n",
      "Epoch 153: saving model to model/keypoint_classifier\\keypoint_classifier.hdf5\n",
      "27/27 [==============================] - 0s 10ms/step - loss: 0.1365 - accuracy: 0.9522 - val_loss: 0.0313 - val_accuracy: 0.9895\n",
      "Epoch 154/1000\n",
      "19/27 [====================>.........] - ETA: 0s - loss: 0.1370 - accuracy: 0.9544\n",
      "Epoch 154: saving model to model/keypoint_classifier\\keypoint_classifier.hdf5\n",
      "27/27 [==============================] - 0s 13ms/step - loss: 0.1402 - accuracy: 0.9495 - val_loss: 0.0328 - val_accuracy: 0.9895\n",
      "Epoch 155/1000\n",
      "19/27 [====================>.........] - ETA: 0s - loss: 0.1494 - accuracy: 0.9449\n",
      "Epoch 155: saving model to model/keypoint_classifier\\keypoint_classifier.hdf5\n",
      "27/27 [==============================] - 0s 13ms/step - loss: 0.1385 - accuracy: 0.9495 - val_loss: 0.0331 - val_accuracy: 0.9895\n",
      "Epoch 156/1000\n",
      "17/27 [=================>............] - ETA: 0s - loss: 0.1310 - accuracy: 0.9517\n",
      "Epoch 156: saving model to model/keypoint_classifier\\keypoint_classifier.hdf5\n",
      "27/27 [==============================] - 0s 11ms/step - loss: 0.1371 - accuracy: 0.9484 - val_loss: 0.0370 - val_accuracy: 0.9878\n",
      "Epoch 157/1000\n",
      "19/27 [====================>.........] - ETA: 0s - loss: 0.1242 - accuracy: 0.9572\n",
      "Epoch 157: saving model to model/keypoint_classifier\\keypoint_classifier.hdf5\n",
      "27/27 [==============================] - 0s 13ms/step - loss: 0.1252 - accuracy: 0.9568 - val_loss: 0.0322 - val_accuracy: 0.9895\n",
      "Epoch 158/1000\n",
      "19/27 [====================>.........] - ETA: 0s - loss: 0.1270 - accuracy: 0.9576\n",
      "Epoch 158: saving model to model/keypoint_classifier\\keypoint_classifier.hdf5\n",
      "27/27 [==============================] - 0s 13ms/step - loss: 0.1321 - accuracy: 0.9530 - val_loss: 0.0347 - val_accuracy: 0.9904\n",
      "Epoch 159/1000\n",
      "19/27 [====================>.........] - ETA: 0s - loss: 0.1335 - accuracy: 0.9519\n",
      "Epoch 159: saving model to model/keypoint_classifier\\keypoint_classifier.hdf5\n",
      "27/27 [==============================] - 0s 14ms/step - loss: 0.1347 - accuracy: 0.9516 - val_loss: 0.0370 - val_accuracy: 0.9878\n",
      "Epoch 160/1000\n",
      "19/27 [====================>.........] - ETA: 0s - loss: 0.1483 - accuracy: 0.9461\n",
      "Epoch 160: saving model to model/keypoint_classifier\\keypoint_classifier.hdf5\n",
      "27/27 [==============================] - 0s 13ms/step - loss: 0.1419 - accuracy: 0.9501 - val_loss: 0.0358 - val_accuracy: 0.9878\n",
      "Epoch 161/1000\n",
      "21/27 [======================>.......] - ETA: 0s - loss: 0.1357 - accuracy: 0.9554\n",
      "Epoch 161: saving model to model/keypoint_classifier\\keypoint_classifier.hdf5\n",
      "27/27 [==============================] - 0s 9ms/step - loss: 0.1318 - accuracy: 0.9560 - val_loss: 0.0369 - val_accuracy: 0.9895\n",
      "Epoch 162/1000\n",
      "25/27 [==========================>...] - ETA: 0s - loss: 0.1427 - accuracy: 0.9491\n",
      "Epoch 162: saving model to model/keypoint_classifier\\keypoint_classifier.hdf5\n",
      "27/27 [==============================] - 0s 5ms/step - loss: 0.1401 - accuracy: 0.9504 - val_loss: 0.0349 - val_accuracy: 0.9904\n"
     ]
    },
    {
     "name": "stdout",
     "output_type": "stream",
     "text": [
      "Epoch 163/1000\n",
      "27/27 [==============================] - ETA: 0s - loss: 0.1351 - accuracy: 0.9501\n",
      "Epoch 163: saving model to model/keypoint_classifier\\keypoint_classifier.hdf5\n",
      "27/27 [==============================] - 0s 5ms/step - loss: 0.1351 - accuracy: 0.9501 - val_loss: 0.0325 - val_accuracy: 0.9886\n",
      "Epoch 164/1000\n",
      "26/27 [===========================>..] - ETA: 0s - loss: 0.1260 - accuracy: 0.9525\n",
      "Epoch 164: saving model to model/keypoint_classifier\\keypoint_classifier.hdf5\n",
      "27/27 [==============================] - 0s 5ms/step - loss: 0.1272 - accuracy: 0.9516 - val_loss: 0.0331 - val_accuracy: 0.9895\n",
      "Epoch 165/1000\n",
      "26/27 [===========================>..] - ETA: 0s - loss: 0.1368 - accuracy: 0.9492\n",
      "Epoch 165: saving model to model/keypoint_classifier\\keypoint_classifier.hdf5\n",
      "27/27 [==============================] - 0s 5ms/step - loss: 0.1387 - accuracy: 0.9492 - val_loss: 0.0353 - val_accuracy: 0.9878\n",
      "Epoch 166/1000\n",
      "27/27 [==============================] - ETA: 0s - loss: 0.1275 - accuracy: 0.9565\n",
      "Epoch 166: saving model to model/keypoint_classifier\\keypoint_classifier.hdf5\n",
      "27/27 [==============================] - 0s 5ms/step - loss: 0.1275 - accuracy: 0.9565 - val_loss: 0.0410 - val_accuracy: 0.9825\n",
      "Epoch 167/1000\n",
      "27/27 [==============================] - ETA: 0s - loss: 0.1415 - accuracy: 0.9452\n",
      "Epoch 167: saving model to model/keypoint_classifier\\keypoint_classifier.hdf5\n",
      "27/27 [==============================] - 0s 5ms/step - loss: 0.1415 - accuracy: 0.9452 - val_loss: 0.0333 - val_accuracy: 0.9895\n",
      "Epoch 168/1000\n",
      "26/27 [===========================>..] - ETA: 0s - loss: 0.1325 - accuracy: 0.9495\n",
      "Epoch 168: saving model to model/keypoint_classifier\\keypoint_classifier.hdf5\n",
      "27/27 [==============================] - 0s 5ms/step - loss: 0.1318 - accuracy: 0.9492 - val_loss: 0.0398 - val_accuracy: 0.9816\n",
      "Epoch 169/1000\n",
      "26/27 [===========================>..] - ETA: 0s - loss: 0.1292 - accuracy: 0.9513\n",
      "Epoch 169: saving model to model/keypoint_classifier\\keypoint_classifier.hdf5\n",
      "27/27 [==============================] - 0s 5ms/step - loss: 0.1291 - accuracy: 0.9513 - val_loss: 0.0346 - val_accuracy: 0.9913\n",
      "Epoch 170/1000\n",
      "26/27 [===========================>..] - ETA: 0s - loss: 0.1373 - accuracy: 0.9501\n",
      "Epoch 170: saving model to model/keypoint_classifier\\keypoint_classifier.hdf5\n",
      "27/27 [==============================] - 0s 5ms/step - loss: 0.1358 - accuracy: 0.9507 - val_loss: 0.0312 - val_accuracy: 0.9895\n",
      "Epoch 171/1000\n",
      "26/27 [===========================>..] - ETA: 0s - loss: 0.1242 - accuracy: 0.9561\n",
      "Epoch 171: saving model to model/keypoint_classifier\\keypoint_classifier.hdf5\n",
      "27/27 [==============================] - 0s 5ms/step - loss: 0.1280 - accuracy: 0.9554 - val_loss: 0.0339 - val_accuracy: 0.9904\n",
      "Epoch 172/1000\n",
      "26/27 [===========================>..] - ETA: 0s - loss: 0.1273 - accuracy: 0.9519\n",
      "Epoch 172: saving model to model/keypoint_classifier\\keypoint_classifier.hdf5\n",
      "27/27 [==============================] - 0s 5ms/step - loss: 0.1271 - accuracy: 0.9525 - val_loss: 0.0354 - val_accuracy: 0.9886\n",
      "Epoch 173/1000\n",
      "26/27 [===========================>..] - ETA: 0s - loss: 0.1395 - accuracy: 0.9459\n",
      "Epoch 173: saving model to model/keypoint_classifier\\keypoint_classifier.hdf5\n",
      "27/27 [==============================] - 0s 5ms/step - loss: 0.1389 - accuracy: 0.9466 - val_loss: 0.0356 - val_accuracy: 0.9904\n",
      "Epoch 174/1000\n",
      " 1/27 [>.............................] - ETA: 0s - loss: 0.1097 - accuracy: 0.9531\n",
      "Epoch 174: saving model to model/keypoint_classifier\\keypoint_classifier.hdf5\n",
      "27/27 [==============================] - 0s 5ms/step - loss: 0.1444 - accuracy: 0.9460 - val_loss: 0.0365 - val_accuracy: 0.9878\n",
      "Epoch 175/1000\n",
      "26/27 [===========================>..] - ETA: 0s - loss: 0.1422 - accuracy: 0.9513\n",
      "Epoch 175: saving model to model/keypoint_classifier\\keypoint_classifier.hdf5\n",
      "27/27 [==============================] - 0s 5ms/step - loss: 0.1442 - accuracy: 0.9498 - val_loss: 0.0314 - val_accuracy: 0.9930\n",
      "Epoch 176/1000\n",
      "26/27 [===========================>..] - ETA: 0s - loss: 0.1287 - accuracy: 0.9531\n",
      "Epoch 176: saving model to model/keypoint_classifier\\keypoint_classifier.hdf5\n",
      "27/27 [==============================] - 0s 5ms/step - loss: 0.1291 - accuracy: 0.9527 - val_loss: 0.0323 - val_accuracy: 0.9930\n",
      "Epoch 177/1000\n",
      "26/27 [===========================>..] - ETA: 0s - loss: 0.1376 - accuracy: 0.9507\n",
      "Epoch 177: saving model to model/keypoint_classifier\\keypoint_classifier.hdf5\n",
      "27/27 [==============================] - 0s 5ms/step - loss: 0.1363 - accuracy: 0.9510 - val_loss: 0.0362 - val_accuracy: 0.9878\n",
      "Epoch 178/1000\n",
      "26/27 [===========================>..] - ETA: 0s - loss: 0.1230 - accuracy: 0.9540\n",
      "Epoch 178: saving model to model/keypoint_classifier\\keypoint_classifier.hdf5\n",
      "27/27 [==============================] - 0s 5ms/step - loss: 0.1234 - accuracy: 0.9539 - val_loss: 0.0320 - val_accuracy: 0.9895\n",
      "Epoch 179/1000\n",
      "26/27 [===========================>..] - ETA: 0s - loss: 0.1512 - accuracy: 0.9432\n",
      "Epoch 179: saving model to model/keypoint_classifier\\keypoint_classifier.hdf5\n",
      "27/27 [==============================] - 0s 5ms/step - loss: 0.1508 - accuracy: 0.9434 - val_loss: 0.0353 - val_accuracy: 0.9904\n",
      "Epoch 180/1000\n",
      "25/27 [==========================>...] - ETA: 0s - loss: 0.1222 - accuracy: 0.9591\n",
      "Epoch 180: saving model to model/keypoint_classifier\\keypoint_classifier.hdf5\n",
      "27/27 [==============================] - 0s 6ms/step - loss: 0.1277 - accuracy: 0.9568 - val_loss: 0.0337 - val_accuracy: 0.9895\n",
      "Epoch 181/1000\n",
      "21/27 [======================>.......] - ETA: 0s - loss: 0.1310 - accuracy: 0.9520\n",
      "Epoch 181: saving model to model/keypoint_classifier\\keypoint_classifier.hdf5\n",
      "27/27 [==============================] - 0s 5ms/step - loss: 0.1278 - accuracy: 0.9533 - val_loss: 0.0317 - val_accuracy: 0.9904\n",
      "Epoch 182/1000\n",
      "26/27 [===========================>..] - ETA: 0s - loss: 0.1408 - accuracy: 0.9483\n",
      "Epoch 182: saving model to model/keypoint_classifier\\keypoint_classifier.hdf5\n",
      "27/27 [==============================] - 0s 5ms/step - loss: 0.1394 - accuracy: 0.9489 - val_loss: 0.0355 - val_accuracy: 0.9904\n",
      "Epoch 183/1000\n",
      "26/27 [===========================>..] - ETA: 0s - loss: 0.1288 - accuracy: 0.9549\n",
      "Epoch 183: saving model to model/keypoint_classifier\\keypoint_classifier.hdf5\n",
      "27/27 [==============================] - 0s 5ms/step - loss: 0.1288 - accuracy: 0.9551 - val_loss: 0.0314 - val_accuracy: 0.9930\n",
      "Epoch 184/1000\n",
      "26/27 [===========================>..] - ETA: 0s - loss: 0.1354 - accuracy: 0.9495\n",
      "Epoch 184: saving model to model/keypoint_classifier\\keypoint_classifier.hdf5\n",
      "27/27 [==============================] - 0s 5ms/step - loss: 0.1354 - accuracy: 0.9498 - val_loss: 0.0283 - val_accuracy: 0.9913\n",
      "Epoch 185/1000\n",
      "26/27 [===========================>..] - ETA: 0s - loss: 0.1319 - accuracy: 0.9519\n",
      "Epoch 185: saving model to model/keypoint_classifier\\keypoint_classifier.hdf5\n",
      "27/27 [==============================] - 0s 5ms/step - loss: 0.1322 - accuracy: 0.9519 - val_loss: 0.0328 - val_accuracy: 0.9895\n",
      "Epoch 186/1000\n",
      "26/27 [===========================>..] - ETA: 0s - loss: 0.1237 - accuracy: 0.9540\n",
      "Epoch 186: saving model to model/keypoint_classifier\\keypoint_classifier.hdf5\n",
      "27/27 [==============================] - 0s 5ms/step - loss: 0.1213 - accuracy: 0.9551 - val_loss: 0.0307 - val_accuracy: 0.9904\n",
      "Epoch 187/1000\n",
      " 1/27 [>.............................] - ETA: 0s - loss: 0.1258 - accuracy: 0.9688\n",
      "Epoch 187: saving model to model/keypoint_classifier\\keypoint_classifier.hdf5\n",
      "27/27 [==============================] - 0s 5ms/step - loss: 0.1212 - accuracy: 0.9527 - val_loss: 0.0288 - val_accuracy: 0.9904\n",
      "Epoch 188/1000\n",
      "24/27 [=========================>....] - ETA: 0s - loss: 0.1182 - accuracy: 0.9577\n",
      "Epoch 188: saving model to model/keypoint_classifier\\keypoint_classifier.hdf5\n",
      "27/27 [==============================] - 0s 5ms/step - loss: 0.1189 - accuracy: 0.9577 - val_loss: 0.0299 - val_accuracy: 0.9930\n",
      "Epoch 189/1000\n",
      "27/27 [==============================] - ETA: 0s - loss: 0.1270 - accuracy: 0.9522\n",
      "Epoch 189: saving model to model/keypoint_classifier\\keypoint_classifier.hdf5\n",
      "27/27 [==============================] - 0s 5ms/step - loss: 0.1270 - accuracy: 0.9522 - val_loss: 0.0347 - val_accuracy: 0.9904\n"
     ]
    },
    {
     "name": "stdout",
     "output_type": "stream",
     "text": [
      "Epoch 190/1000\n",
      "26/27 [===========================>..] - ETA: 0s - loss: 0.1367 - accuracy: 0.9516\n",
      "Epoch 190: saving model to model/keypoint_classifier\\keypoint_classifier.hdf5\n",
      "27/27 [==============================] - 0s 5ms/step - loss: 0.1347 - accuracy: 0.9527 - val_loss: 0.0323 - val_accuracy: 0.9930\n",
      "Epoch 191/1000\n",
      "27/27 [==============================] - ETA: 0s - loss: 0.1485 - accuracy: 0.9449\n",
      "Epoch 191: saving model to model/keypoint_classifier\\keypoint_classifier.hdf5\n",
      "27/27 [==============================] - 0s 5ms/step - loss: 0.1485 - accuracy: 0.9449 - val_loss: 0.0346 - val_accuracy: 0.9921\n",
      "Epoch 192/1000\n",
      "27/27 [==============================] - ETA: 0s - loss: 0.1208 - accuracy: 0.9557\n",
      "Epoch 192: saving model to model/keypoint_classifier\\keypoint_classifier.hdf5\n",
      "27/27 [==============================] - 0s 5ms/step - loss: 0.1208 - accuracy: 0.9557 - val_loss: 0.0334 - val_accuracy: 0.9886\n",
      "Epoch 193/1000\n",
      "26/27 [===========================>..] - ETA: 0s - loss: 0.1191 - accuracy: 0.9570\n",
      "Epoch 193: saving model to model/keypoint_classifier\\keypoint_classifier.hdf5\n",
      "27/27 [==============================] - 0s 5ms/step - loss: 0.1187 - accuracy: 0.9571 - val_loss: 0.0389 - val_accuracy: 0.9843\n",
      "Epoch 194/1000\n",
      "26/27 [===========================>..] - ETA: 0s - loss: 0.1374 - accuracy: 0.9513\n",
      "Epoch 194: saving model to model/keypoint_classifier\\keypoint_classifier.hdf5\n",
      "27/27 [==============================] - 0s 5ms/step - loss: 0.1385 - accuracy: 0.9498 - val_loss: 0.0316 - val_accuracy: 0.9895\n",
      "Epoch 195/1000\n",
      "26/27 [===========================>..] - ETA: 0s - loss: 0.1278 - accuracy: 0.9525\n",
      "Epoch 195: saving model to model/keypoint_classifier\\keypoint_classifier.hdf5\n",
      "27/27 [==============================] - 0s 5ms/step - loss: 0.1269 - accuracy: 0.9525 - val_loss: 0.0371 - val_accuracy: 0.9913\n",
      "Epoch 196/1000\n",
      "27/27 [==============================] - ETA: 0s - loss: 0.1260 - accuracy: 0.9542\n",
      "Epoch 196: saving model to model/keypoint_classifier\\keypoint_classifier.hdf5\n",
      "27/27 [==============================] - 0s 5ms/step - loss: 0.1260 - accuracy: 0.9542 - val_loss: 0.0291 - val_accuracy: 0.9930\n",
      "Epoch 197/1000\n",
      "27/27 [==============================] - ETA: 0s - loss: 0.1257 - accuracy: 0.9536\n",
      "Epoch 197: saving model to model/keypoint_classifier\\keypoint_classifier.hdf5\n",
      "27/27 [==============================] - 0s 5ms/step - loss: 0.1257 - accuracy: 0.9536 - val_loss: 0.0366 - val_accuracy: 0.9895\n",
      "Epoch 198/1000\n",
      "26/27 [===========================>..] - ETA: 0s - loss: 0.1421 - accuracy: 0.9489\n",
      "Epoch 198: saving model to model/keypoint_classifier\\keypoint_classifier.hdf5\n",
      "27/27 [==============================] - 0s 5ms/step - loss: 0.1412 - accuracy: 0.9492 - val_loss: 0.0387 - val_accuracy: 0.9851\n",
      "Epoch 199/1000\n",
      "27/27 [==============================] - ETA: 0s - loss: 0.1334 - accuracy: 0.9487\n",
      "Epoch 199: saving model to model/keypoint_classifier\\keypoint_classifier.hdf5\n",
      "27/27 [==============================] - 0s 6ms/step - loss: 0.1334 - accuracy: 0.9487 - val_loss: 0.0326 - val_accuracy: 0.9939\n",
      "Epoch 200/1000\n",
      "20/27 [=====================>........] - ETA: 0s - loss: 0.1338 - accuracy: 0.9488\n",
      "Epoch 200: saving model to model/keypoint_classifier\\keypoint_classifier.hdf5\n",
      "27/27 [==============================] - 0s 6ms/step - loss: 0.1337 - accuracy: 0.9481 - val_loss: 0.0356 - val_accuracy: 0.9869\n",
      "Epoch 201/1000\n",
      "17/27 [=================>............] - ETA: 0s - loss: 0.1408 - accuracy: 0.9453\n",
      "Epoch 201: saving model to model/keypoint_classifier\\keypoint_classifier.hdf5\n",
      "27/27 [==============================] - 0s 6ms/step - loss: 0.1356 - accuracy: 0.9507 - val_loss: 0.0340 - val_accuracy: 0.9913\n",
      "Epoch 202/1000\n",
      "26/27 [===========================>..] - ETA: 0s - loss: 0.1348 - accuracy: 0.9522\n",
      "Epoch 202: saving model to model/keypoint_classifier\\keypoint_classifier.hdf5\n",
      "27/27 [==============================] - 0s 5ms/step - loss: 0.1349 - accuracy: 0.9525 - val_loss: 0.0315 - val_accuracy: 0.9930\n",
      "Epoch 203/1000\n",
      "27/27 [==============================] - ETA: 0s - loss: 0.1194 - accuracy: 0.9603\n",
      "Epoch 203: saving model to model/keypoint_classifier\\keypoint_classifier.hdf5\n",
      "27/27 [==============================] - 0s 5ms/step - loss: 0.1194 - accuracy: 0.9603 - val_loss: 0.0325 - val_accuracy: 0.9939\n",
      "Epoch 204/1000\n",
      "27/27 [==============================] - ETA: 0s - loss: 0.1326 - accuracy: 0.9475\n",
      "Epoch 204: saving model to model/keypoint_classifier\\keypoint_classifier.hdf5\n",
      "27/27 [==============================] - 0s 4ms/step - loss: 0.1326 - accuracy: 0.9475 - val_loss: 0.0314 - val_accuracy: 0.9939\n",
      "Epoch 204: early stopping\n"
     ]
    },
    {
     "data": {
      "text/plain": [
       "<keras.callbacks.History at 0x1ca695cc9d0>"
      ]
     },
     "execution_count": 13,
     "metadata": {},
     "output_type": "execute_result"
    }
   ],
   "source": [
    "\n",
    "model.fit(\n",
    "    X_train,\n",
    "    y_train,\n",
    "    epochs=1000,\n",
    "    batch_size=128,\n",
    "    validation_data=(X_test, y_test),\n",
    "    callbacks=[cp_callback, es_callback]\n",
    ")\n",
    "\n"
   ]
  },
  {
   "cell_type": "code",
   "execution_count": 14,
   "metadata": {},
   "outputs": [
    {
     "name": "stdout",
     "output_type": "stream",
     "text": [
      "9/9 [==============================] - 0s 1ms/step - loss: 0.0314 - accuracy: 0.9939\n"
     ]
    }
   ],
   "source": [
    "# モデル評価\n",
    "val_loss, val_acc = model.evaluate(X_test, y_test, batch_size=128)"
   ]
  },
  {
   "cell_type": "code",
   "execution_count": 15,
   "metadata": {},
   "outputs": [],
   "source": [
    "# 保存したモデルのロード\n",
    "model = tf.keras.models.load_model(model_save_path)"
   ]
  },
  {
   "cell_type": "code",
   "execution_count": 16,
   "metadata": {},
   "outputs": [
    {
     "name": "stdout",
     "output_type": "stream",
     "text": [
      "1/1 [==============================] - 0s 103ms/step\n",
      "[0.09473793 0.5787938  0.32646826]\n",
      "1\n"
     ]
    }
   ],
   "source": [
    "# 推論テスト\n",
    "predict_result = model.predict(np.array([X_test[0]]))\n",
    "print(np.squeeze(predict_result))\n",
    "print(np.argmax(np.squeeze(predict_result)))"
   ]
  },
  {
   "cell_type": "markdown",
   "metadata": {},
   "source": [
    "# 混同行列"
   ]
  },
  {
   "cell_type": "code",
   "execution_count": 17,
   "metadata": {},
   "outputs": [
    {
     "name": "stdout",
     "output_type": "stream",
     "text": [
      "Requirement already satisfied: pandas in c:\\users\\predator\\appdata\\local\\programs\\python\\python39\\lib\\site-packages (1.5.3)\n",
      "Requirement already satisfied: python-dateutil>=2.8.1 in c:\\users\\predator\\appdata\\local\\programs\\python\\python39\\lib\\site-packages (from pandas) (2.8.2)\n",
      "Requirement already satisfied: pytz>=2020.1 in c:\\users\\predator\\appdata\\local\\programs\\python\\python39\\lib\\site-packages (from pandas) (2023.2)\n",
      "Requirement already satisfied: numpy>=1.20.3 in c:\\users\\predator\\appdata\\local\\programs\\python\\python39\\lib\\site-packages (from pandas) (1.24.2)\n",
      "Requirement already satisfied: six>=1.5 in c:\\users\\predator\\appdata\\local\\programs\\python\\python39\\lib\\site-packages (from python-dateutil>=2.8.1->pandas) (1.16.0)\n"
     ]
    },
    {
     "name": "stderr",
     "output_type": "stream",
     "text": [
      "WARNING: Ignoring invalid distribution -pencv-python-headless (c:\\users\\predator\\appdata\\local\\programs\\python\\python39\\lib\\site-packages)\n",
      "WARNING: Ignoring invalid distribution -pencv-python-headless (c:\\users\\predator\\appdata\\local\\programs\\python\\python39\\lib\\site-packages)\n"
     ]
    },
    {
     "name": "stdout",
     "output_type": "stream",
     "text": [
      "Requirement already satisfied: seaborn in c:\\users\\predator\\appdata\\local\\programs\\python\\python39\\lib\\site-packages (0.12.2)\n",
      "Requirement already satisfied: numpy!=1.24.0,>=1.17 in c:\\users\\predator\\appdata\\local\\programs\\python\\python39\\lib\\site-packages (from seaborn) (1.24.2)\n",
      "Requirement already satisfied: pandas>=0.25 in c:\\users\\predator\\appdata\\local\\programs\\python\\python39\\lib\\site-packages (from seaborn) (1.5.3)\n",
      "Requirement already satisfied: matplotlib!=3.6.1,>=3.1 in c:\\users\\predator\\appdata\\local\\programs\\python\\python39\\lib\\site-packages (from seaborn) (3.7.1)\n",
      "Requirement already satisfied: contourpy>=1.0.1 in c:\\users\\predator\\appdata\\local\\programs\\python\\python39\\lib\\site-packages (from matplotlib!=3.6.1,>=3.1->seaborn) (1.0.7)\n",
      "Requirement already satisfied: cycler>=0.10 in c:\\users\\predator\\appdata\\local\\programs\\python\\python39\\lib\\site-packages (from matplotlib!=3.6.1,>=3.1->seaborn) (0.11.0)\n",
      "Requirement already satisfied: fonttools>=4.22.0 in c:\\users\\predator\\appdata\\local\\programs\\python\\python39\\lib\\site-packages (from matplotlib!=3.6.1,>=3.1->seaborn) (4.39.2)\n",
      "Requirement already satisfied: kiwisolver>=1.0.1 in c:\\users\\predator\\appdata\\local\\programs\\python\\python39\\lib\\site-packages (from matplotlib!=3.6.1,>=3.1->seaborn) (1.4.4)\n",
      "Requirement already satisfied: packaging>=20.0 in c:\\users\\predator\\appdata\\local\\programs\\python\\python39\\lib\\site-packages (from matplotlib!=3.6.1,>=3.1->seaborn) (23.0)\n",
      "Requirement already satisfied: pillow>=6.2.0 in c:\\users\\predator\\appdata\\local\\programs\\python\\python39\\lib\\site-packages (from matplotlib!=3.6.1,>=3.1->seaborn) (9.4.0)\n",
      "Requirement already satisfied: pyparsing>=2.3.1 in c:\\users\\predator\\appdata\\local\\programs\\python\\python39\\lib\\site-packages (from matplotlib!=3.6.1,>=3.1->seaborn) (3.0.9)\n",
      "Requirement already satisfied: python-dateutil>=2.7 in c:\\users\\predator\\appdata\\local\\programs\\python\\python39\\lib\\site-packages (from matplotlib!=3.6.1,>=3.1->seaborn) (2.8.2)\n",
      "Requirement already satisfied: importlib-resources>=3.2.0 in c:\\users\\predator\\appdata\\local\\programs\\python\\python39\\lib\\site-packages (from matplotlib!=3.6.1,>=3.1->seaborn) (5.12.0)\n",
      "Requirement already satisfied: pytz>=2020.1 in c:\\users\\predator\\appdata\\local\\programs\\python\\python39\\lib\\site-packages (from pandas>=0.25->seaborn) (2023.2)\n",
      "Requirement already satisfied: zipp>=3.1.0 in c:\\users\\predator\\appdata\\local\\programs\\python\\python39\\lib\\site-packages (from importlib-resources>=3.2.0->matplotlib!=3.6.1,>=3.1->seaborn) (3.15.0)\n",
      "Requirement already satisfied: six>=1.5 in c:\\users\\predator\\appdata\\local\\programs\\python\\python39\\lib\\site-packages (from python-dateutil>=2.7->matplotlib!=3.6.1,>=3.1->seaborn) (1.16.0)\n"
     ]
    },
    {
     "name": "stderr",
     "output_type": "stream",
     "text": [
      "WARNING: Ignoring invalid distribution -pencv-python-headless (c:\\users\\predator\\appdata\\local\\programs\\python\\python39\\lib\\site-packages)\n",
      "WARNING: Ignoring invalid distribution -pencv-python-headless (c:\\users\\predator\\appdata\\local\\programs\\python\\python39\\lib\\site-packages)\n"
     ]
    },
    {
     "name": "stdout",
     "output_type": "stream",
     "text": [
      "36/36 [==============================] - 0s 1ms/step\n"
     ]
    },
    {
     "data": {
      "image/png": "[encoded data removed]",
      "text/plain": [
       "<Figure size 700x600 with 2 Axes>"
      ]
     },
     "metadata": {},
     "output_type": "display_data"
    },
    {
     "name": "stdout",
     "output_type": "stream",
     "text": [
      "Classification Report\n",
      "              precision    recall  f1-score   support\n",
      "\n",
      "           0       1.00      1.00      1.00       403\n",
      "           1       1.00      0.98      0.99       377\n",
      "           2       0.98      1.00      0.99       363\n",
      "\n",
      "    accuracy                           0.99      1143\n",
      "   macro avg       0.99      0.99      0.99      1143\n",
      "weighted avg       0.99      0.99      0.99      1143\n",
      "\n"
     ]
    }
   ],
   "source": [
    "!pip install pandas\n",
    "!pip install seaborn\n",
    "import pandas as pd\n",
    "import seaborn as sns\n",
    "import matplotlib.pyplot as plt\n",
    "from sklearn.metrics import confusion_matrix, classification_report\n",
    "\n",
    "def print_confusion_matrix(y_true, y_pred, report=True):\n",
    "    labels = sorted(list(set(y_true)))\n",
    "    cmx_data = confusion_matrix(y_true, y_pred, labels=labels)\n",
    "    \n",
    "    df_cmx = pd.DataFrame(cmx_data, index=labels, columns=labels)\n",
    " \n",
    "    fig, ax = plt.subplots(figsize=(7, 6))\n",
    "    sns.heatmap(df_cmx, annot=True, fmt='g' ,square=False)\n",
    "    ax.set_ylim(len(set(y_true)), 0)\n",
    "    plt.show()\n",
    "    \n",
    "    if report:\n",
    "        print('Classification Report')\n",
    "        print(classification_report(y_test, y_pred))\n",
    "\n",
    "Y_pred = model.predict(X_test)\n",
    "y_pred = np.argmax(Y_pred, axis=1)\n",
    "\n",
    "print_confusion_matrix(y_test, y_pred)"
   ]
  },
  {
   "cell_type": "markdown",
   "metadata": {},
   "source": [
    "# Tensorflow-Lite用のモデルへ変換"
   ]
  },
  {
   "cell_type": "code",
   "execution_count": 18,
   "metadata": {},
   "outputs": [],
   "source": [
    "# 推論専用のモデルとして保存\n",
    "model.save(model_save_path, include_optimizer=False)"
   ]
  },
  {
   "cell_type": "code",
   "execution_count": 19,
   "metadata": {},
   "outputs": [
    {
     "name": "stdout",
     "output_type": "stream",
     "text": [
      "INFO:tensorflow:Assets written to: C:\\Users\\PREDATOR\\AppData\\Local\\Temp\\tmpqg7inivo\\assets\n"
     ]
    },
    {
     "data": {
      "text/plain": [
       "6500"
      ]
     },
     "execution_count": 19,
     "metadata": {},
     "output_type": "execute_result"
    }
   ],
   "source": [
    "# モデルを変換(量子化)\n",
    "tflite_save_path = 'model/keypoint_classifier/keypoint_classifier.tflite'\n",
    "\n",
    "converter = tf.lite.TFLiteConverter.from_keras_model(model)\n",
    "converter.optimizations = [tf.lite.Optimize.DEFAULT]\n",
    "tflite_quantized_model = converter.convert()\n",
    "\n",
    "open(tflite_save_path, 'wb').write(tflite_quantized_model)"
   ]
  },
  {
   "cell_type": "code",
   "execution_count": null,
   "metadata": {},
   "outputs": [],
   "source": []
  },
  {
   "cell_type": "markdown",
   "metadata": {},
   "source": []
  },
  {
   "cell_type": "code",
   "execution_count": 20,
   "metadata": {},
   "outputs": [],
   "source": [
    "interpreter = tf.lite.Interpreter(model_path=tflite_save_path)\n",
    "interpreter.allocate_tensors()"
   ]
  },
  {
   "cell_type": "code",
   "execution_count": 21,
   "metadata": {},
   "outputs": [],
   "source": [
    "\n",
    "input_details = interpreter.get_input_details()\n",
    "output_details = interpreter.get_output_details()"
   ]
  },
  {
   "cell_type": "code",
   "execution_count": 22,
   "metadata": {},
   "outputs": [],
   "source": [
    "interpreter.set_tensor(input_details[0]['index'], np.array([X_test[0]]))"
   ]
  },
  {
   "cell_type": "code",
   "execution_count": 23,
   "metadata": {
    "scrolled": true
   },
   "outputs": [
    {
     "name": "stdout",
     "output_type": "stream",
     "text": [
      "CPU times: total: 0 ns\n",
      "Wall time: 998 µs\n"
     ]
    }
   ],
   "source": [
    "%%time\n",
    "interpreter.invoke()\n",
    "tflite_results = interpreter.get_tensor(output_details[0]['index'])"
   ]
  },
  {
   "cell_type": "code",
   "execution_count": 24,
   "metadata": {},
   "outputs": [
    {
     "name": "stdout",
     "output_type": "stream",
     "text": [
      "[0.09473787 0.5787939  0.32646823]\n",
      "1\n"
     ]
    }
   ],
   "source": [
    "print(np.squeeze(tflite_results))\n",
    "print(np.argmax(np.squeeze(tflite_results)))"
   ]
  },
  {
   "cell_type": "code",
   "execution_count": 25,
   "metadata": {},
   "outputs": [],
   "source": [
    "## converting to tflite\n",
    "prediction_classes=np.argmax(tflite_results,axis=1)"
   ]
  },
  {
   "cell_type": "code",
   "execution_count": 29,
   "metadata": {},
   "outputs": [
    {
     "name": "stdout",
     "output_type": "stream",
     "text": [
      "helo\n"
     ]
    }
   ],
   "source": [
    "print(\"helo\")\n"
   ]
  },
  {
   "cell_type": "code",
   "execution_count": 27,
   "metadata": {},
   "outputs": [
    {
     "ename": "SyntaxError",
     "evalue": "expression cannot contain assignment, perhaps you meant \"==\"? (3780555767.py, line 1)",
     "output_type": "error",
     "traceback": [
      "\u001b[1;36m  Cell \u001b[1;32mIn[27], line 1\u001b[1;36m\u001b[0m\n\u001b[1;33m    interpreter=tf.lite.Interpreter(model_content=)\u001b[0m\n\u001b[1;37m                                    ^\u001b[0m\n\u001b[1;31mSyntaxError\u001b[0m\u001b[1;31m:\u001b[0m expression cannot contain assignment, perhaps you meant \"==\"?\n"
     ]
    }
   ],
   "source": [
    "interpreter=tf.lite.Interpreter(model_content=)"
   ]
  },
  {
   "cell_type": "code",
   "execution_count": null,
   "metadata": {},
   "outputs": [],
   "source": [
    "# Convert the model into TF Lite.\n",
    "converter = tf.lite.TFLiteConverter.from_saved_model(export_dir)\n",
    "tflite_model = converter.convert()\n"
   ]
  },
  {
   "cell_type": "code",
   "execution_count": null,
   "metadata": {},
   "outputs": [],
   "source": []
  },
  {
   "cell_type": "code",
   "execution_count": null,
   "metadata": {},
   "outputs": [],
   "source": []
  }
 ],
 "metadata": {
  "kernelspec": {
   "display_name": "Python 3 (ipykernel)",
   "language": "python",
   "name": "python3"
  },
  "language_info": {
   "codemirror_mode": {
    "name": "ipython",
    "version": 3
   },
   "file_extension": ".py",
   "mimetype": "text/x-python",
   "name": "python",
   "nbconvert_exporter": "python",
   "pygments_lexer": "ipython3",
   "version": "3.9.4"
  }
 },
 "nbformat": 4,
 "nbformat_minor": 4
}
